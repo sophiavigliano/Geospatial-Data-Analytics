{
 "cells": [
  {
   "cell_type": "markdown",
   "metadata": {},
   "source": [
    "# Week 02 Homework"
   ]
  },
  {
   "cell_type": "markdown",
   "metadata": {},
   "source": [
    "Due January 24th, 2023 5PM. On Brightspace, supply a link to your GitHub repository where a single jupyter notebook has your solutions to the following. Use the same exercise headers as below. \n",
    "\n",
    "Adapted from: https://pythongis.org/part1/chapter-02/nb/06-exercises.html \n",
    "\n",
    "only do 2.1-2.4"
   ]
  },
  {
   "cell_type": "markdown",
   "metadata": {
    "tags": []
   },
   "source": [
    "## Exercise 2.1 - Getting started with Python\n",
    "\n",
    "The goal of this exercise is to print text like that below to the screen based on variable values you define.\n",
    "\n",
    "```\n",
    "My name is Brianna and I give eating ice cream a score of 9 out of 10!\n",
    "My sleeping enjoyment rating is 8 / 10!\n",
    "Based on the factors above, my happiness rating is 8.5 out of 10 or 85.0 %!\n",
    "```\n",
    "For this exercise you should:\n",
    "\n",
    "- Create three variables: one integer value (whole number) for your ice cream rating, another integer for your sleeping rating, and a character string for your first name. \n",
    "- Calculate the average of the two ratings. Store the result in a variable for your happiness.\n",
    "- Find the data type of each of the variables you have defined. Are there any surprises?\n",
    "- Reproduce your version of the example text using the `print()` function and the variables you have defined. Note that you may need to be careful combining text and numbers!"
   ]
  },
  {
   "cell_type": "code",
   "execution_count": 4,
   "metadata": {},
   "outputs": [],
   "source": [
    "icecreamrating = 10\n",
    "sleeprating = 6\n",
    "name = \"sophia\""
   ]
  },
  {
   "cell_type": "code",
   "execution_count": 7,
   "metadata": {},
   "outputs": [
    {
     "name": "stdout",
     "output_type": "stream",
     "text": [
      "8.0\n"
     ]
    }
   ],
   "source": [
    "happiness = (icecreamrating + sleeprating)/2\n",
    "print(happiness)"
   ]
  },
  {
   "cell_type": "code",
   "execution_count": 8,
   "metadata": {},
   "outputs": [
    {
     "data": {
      "text/plain": [
       "int"
      ]
     },
     "execution_count": 8,
     "metadata": {},
     "output_type": "execute_result"
    }
   ],
   "source": [
    "type(icecreamrating)"
   ]
  },
  {
   "cell_type": "code",
   "execution_count": 9,
   "metadata": {},
   "outputs": [
    {
     "data": {
      "text/plain": [
       "int"
      ]
     },
     "execution_count": 9,
     "metadata": {},
     "output_type": "execute_result"
    }
   ],
   "source": [
    "type(sleeprating)"
   ]
  },
  {
   "cell_type": "code",
   "execution_count": 10,
   "metadata": {},
   "outputs": [
    {
     "data": {
      "text/plain": [
       "str"
      ]
     },
     "execution_count": 10,
     "metadata": {},
     "output_type": "execute_result"
    }
   ],
   "source": [
    "type(name)"
   ]
  },
  {
   "cell_type": "code",
   "execution_count": 11,
   "metadata": {},
   "outputs": [
    {
     "data": {
      "text/plain": [
       "float"
      ]
     },
     "execution_count": 11,
     "metadata": {},
     "output_type": "execute_result"
    }
   ],
   "source": [
    "type(happiness)"
   ]
  },
  {
   "cell_type": "code",
   "execution_count": 15,
   "metadata": {},
   "outputs": [
    {
     "name": "stdout",
     "output_type": "stream",
     "text": [
      "My name is sophia and I give eating ice cream a score of 10 out of 10! My sleeping enjoyment rating is 6 / 10! Based on the factors above, my happiness rating is 8.0 out of 10 or 80 %!\n"
     ]
    }
   ],
   "source": [
    "print(\"My name is\", name, \n",
    "      \"and I give eating ice cream a score of\", icecreamrating,\n",
    "      \"out of 10! My sleeping enjoyment rating is\", sleeprating, \"/ 10! Based on the factors above, my happiness rating is\", happiness, \"out of 10 or 80 %!\")"
   ]
  },
  {
   "cell_type": "markdown",
   "metadata": {},
   "source": [
    "## Exercise 2.2 - Creating and changing lists\n",
    "\n",
    ": _**Table 2.5**. [FMI observation stations](http://en.ilmatieteenlaitos.fi/observation-stations) and the years in which they began operating_.\n",
    "\n",
    "|FMI station name       | First year of operation | Group |\n",
    "|:----------------------|:-----------------------:|:-----:|\n",
    "|lighthouse             | 2003                    | 1     |\n",
    "|Harmaja                | 1989                    | 1     |\n",
    "|Suomenlinna aaltopoiju | 2016                    | 1     |\n",
    "|Kumpula                | 2005                    | 1     |\n",
    "|Kaisaniemi             | 1844                    | 1     |\n",
    "|Malmi airfield         | 1937                    | 2     |\n",
    "|Vuosaari harbour       | 2012                    | 2     |\n",
    "|Kaivopuisto            | 1904                    | 2     |\n",
    "\n",
    "For this exercise you should use the data in Table 2.5 to:\n",
    "\n",
    "- Create two lists for the station names and first years of operation for the stations in Group 1 in Table 2.5. Be sure to list the values in the order they appear in the table.\n",
    "- Modify the lists you just created to add the values Group 2, again keeping them in the same order.\n",
    "- Sort the two lists, sorting the first in alphabetical order and the second so that the most recent starting year is first\n",
    "    - Do you see any problems with how the lists have been sorted?\n",
    "    - Python has a function called `zip()` that might be helpful in solving the sorting issue. Search online to see whether you can find a way to use `zip()` to solve the problem with the two lists."
   ]
  },
  {
   "cell_type": "code",
   "execution_count": 16,
   "metadata": {},
   "outputs": [
    {
     "data": {
      "text/plain": [
       "['lighthouse', 'Harmaja', 'Sumenlinna aaltopoiju', 'Kumpula', 'Kaisaniemi']"
      ]
     },
     "execution_count": 16,
     "metadata": {},
     "output_type": "execute_result"
    }
   ],
   "source": [
    "station_names = [\"lighthouse\", \"Harmaja\", \"Sumenlinna aaltopoiju\", \"Kumpula\", \"Kaisaniemi\"]\n",
    "station_names"
   ]
  },
  {
   "cell_type": "code",
   "execution_count": 17,
   "metadata": {},
   "outputs": [
    {
     "data": {
      "text/plain": [
       "['2003', '1989', '2016', '2005', '1844']"
      ]
     },
     "execution_count": 17,
     "metadata": {},
     "output_type": "execute_result"
    }
   ],
   "source": [
    "first_year_operation = [\"2003\", \"1989\", \"2016\", \"2005\", \"1844\"]\n",
    "first_year_operation"
   ]
  },
  {
   "cell_type": "code",
   "execution_count": 18,
   "metadata": {},
   "outputs": [
    {
     "data": {
      "text/plain": [
       "['lighthouse',\n",
       " 'Harmaja',\n",
       " 'Sumenlinna aaltopoiju',\n",
       " 'Kumpula',\n",
       " 'Kaisaniemi',\n",
       " 'Malmi airfield',\n",
       " 'Vuosaari harbor',\n",
       " 'Kaivopuisto']"
      ]
     },
     "execution_count": 18,
     "metadata": {},
     "output_type": "execute_result"
    }
   ],
   "source": [
    "station_names.append(\"Malmi airfield\")\n",
    "station_names.append(\"Vuosaari harbor\")\n",
    "station_names.append(\"Kaivopuisto\")\n",
    "station_names"
   ]
  },
  {
   "cell_type": "code",
   "execution_count": 20,
   "metadata": {},
   "outputs": [
    {
     "data": {
      "text/plain": [
       "['2003', '1989', '2016', '2005', '1844', '1937', '2012', '1904']"
      ]
     },
     "execution_count": 20,
     "metadata": {},
     "output_type": "execute_result"
    }
   ],
   "source": [
    "first_year_operation.append(\"1937\")\n",
    "first_year_operation.append(\"2012\")\n",
    "first_year_operation.append(\"1904\")\n",
    "first_year_operation"
   ]
  },
  {
   "cell_type": "code",
   "execution_count": 33,
   "metadata": {},
   "outputs": [
    {
     "data": {
      "text/plain": [
       "['Harmaja',\n",
       " 'Kaisaniemi',\n",
       " 'Kaivopuisto',\n",
       " 'Kumpula',\n",
       " 'lighthouse',\n",
       " 'Malmi airfield',\n",
       " 'Sumenlinna aaltopoiju',\n",
       " 'Vuosaari harbor']"
      ]
     },
     "execution_count": 33,
     "metadata": {},
     "output_type": "execute_result"
    }
   ],
   "source": [
    "station_names.sort(key=str.lower)\n",
    "station_names\n",
    "# need to consider the lighthouse bc it's lowercase and will otherwise be last"
   ]
  },
  {
   "cell_type": "code",
   "execution_count": 39,
   "metadata": {},
   "outputs": [
    {
     "data": {
      "text/plain": [
       "['1844', '1904', '1937', '1989', '2003', '2005', '2012', '2016']"
      ]
     },
     "execution_count": 39,
     "metadata": {},
     "output_type": "execute_result"
    }
   ],
   "source": [
    "first_year_operation.sort()\n",
    "first_year_operation\n",
    "# the years are in order by date, but do not align with the station names"
   ]
  },
  {
   "cell_type": "code",
   "execution_count": 43,
   "metadata": {},
   "outputs": [
    {
     "data": {
      "text/plain": [
       "[('Harmaja', '1844'),\n",
       " ('Kaisaniemi', '1904'),\n",
       " ('Kaivopuisto', '1937'),\n",
       " ('Kumpula', '1989'),\n",
       " ('lighthouse', '2003'),\n",
       " ('Malmi airfield', '2005'),\n",
       " ('Sumenlinna aaltopoiju', '2012'),\n",
       " ('Vuosaari harbor', '2016')]"
      ]
     },
     "execution_count": 43,
     "metadata": {},
     "output_type": "execute_result"
    }
   ],
   "source": [
    "a = (station_names)\n",
    "b = (first_year_operation)\n",
    "\n",
    "x = zip(a, b)\n",
    "\n",
    "list(x)"
   ]
  },
  {
   "cell_type": "markdown",
   "metadata": {},
   "source": [
    "## Exercise 2.3 - Lists and index values\n",
    "\n",
    ": _**Table 2.6**. [Monthly average temperatures recorded at the Helsinki Malmi airport](https://www.timeanddate.com/weather/finland/helsinki/climate)._\n",
    "\n",
    "|Month     | Temperature (°C) |\n",
    "|:---------|:----------------:|\n",
    "|January   | -3.5             |\n",
    "|February  | -4.5             |\n",
    "|March     | -1.0             |\n",
    "|April     | 4.0              |\n",
    "|May       | 10.0             |\n",
    "|June      | 15.0             |\n",
    "|July      | 18.0             |\n",
    "|August    | 16.0             |\n",
    "|September | 11.5             |\n",
    "|October   | 6.0              |\n",
    "|November  | 2.0              |\n",
    "|December  | -1.5             |\n",
    "\n",
    "For this exercise you should use the data in Table 2.6 to:\n",
    "\n",
    "- Create two lists with the months and their average temperatures.\n",
    "- Use a print statement to produce output like that below, where the months and temperatures are selected using index values in the corresponding lists.\n",
    "\n",
    "```\n",
    "The average temperature in Helsinki in March is -1.0\n",
    "```"
   ]
  },
  {
   "cell_type": "code",
   "execution_count": 44,
   "metadata": {},
   "outputs": [
    {
     "data": {
      "text/plain": [
       "['January',\n",
       " 'February',\n",
       " 'March',\n",
       " 'April',\n",
       " 'May',\n",
       " 'June',\n",
       " 'July',\n",
       " 'August',\n",
       " 'September',\n",
       " 'October',\n",
       " 'November',\n",
       " 'December']"
      ]
     },
     "execution_count": 44,
     "metadata": {},
     "output_type": "execute_result"
    }
   ],
   "source": [
    "month = [\"January\", \"February\", \"March\", \"April\", \"May\", \"June\", \"July\", \"August\", \"September\", \"October\", \"November\", \"December\"]\n",
    "month"
   ]
  },
  {
   "cell_type": "code",
   "execution_count": 45,
   "metadata": {},
   "outputs": [
    {
     "data": {
      "text/plain": [
       "['-3.5',\n",
       " '-4.5',\n",
       " '-1.0',\n",
       " '4.0',\n",
       " '10.0',\n",
       " '15.0',\n",
       " '18.0',\n",
       " '16.0',\n",
       " '11.5',\n",
       " '6.0',\n",
       " '2.0',\n",
       " '-1.5']"
      ]
     },
     "execution_count": 45,
     "metadata": {},
     "output_type": "execute_result"
    }
   ],
   "source": [
    "celsius = [\"-3.5\", \"-4.5\", \"-1.0\", \"4.0\", \"10.0\", \"15.0\", \"18.0\", \"16.0\", \"11.5\", \"6.0\", \"2.0\", \"-1.5\"]\n",
    "celsius"
   ]
  },
  {
   "cell_type": "code",
   "execution_count": 46,
   "metadata": {},
   "outputs": [
    {
     "name": "stdout",
     "output_type": "stream",
     "text": [
      "The average temperature in Helsinki in January is -3.5\n"
     ]
    }
   ],
   "source": [
    "print(\"The average temperature in Helsinki in\", month[0], \"is\", celsius[0])"
   ]
  },
  {
   "cell_type": "code",
   "execution_count": 47,
   "metadata": {},
   "outputs": [
    {
     "name": "stdout",
     "output_type": "stream",
     "text": [
      "The average temperature in Helsinki in February is -4.5\n"
     ]
    }
   ],
   "source": [
    "print(\"The average temperature in Helsinki in\", month[1], \"is\", celsius[1])"
   ]
  },
  {
   "cell_type": "code",
   "execution_count": 48,
   "metadata": {},
   "outputs": [
    {
     "name": "stdout",
     "output_type": "stream",
     "text": [
      "The average temperature in Helsinki in March is -1.0\n"
     ]
    }
   ],
   "source": [
    "print(\"The average temperature in Helsinki in\", month[2], \"is\", celsius[2])"
   ]
  },
  {
   "cell_type": "code",
   "execution_count": 49,
   "metadata": {},
   "outputs": [
    {
     "name": "stdout",
     "output_type": "stream",
     "text": [
      "The average temperature in Helsinki in April is 4.0\n"
     ]
    }
   ],
   "source": [
    "print(\"The average temperature in Helsinki in\", month[3], \"is\", celsius[3])"
   ]
  },
  {
   "cell_type": "code",
   "execution_count": 50,
   "metadata": {},
   "outputs": [
    {
     "name": "stdout",
     "output_type": "stream",
     "text": [
      "The average temperature in Helsinki in May is 10.0\n"
     ]
    }
   ],
   "source": [
    "print(\"The average temperature in Helsinki in\", month[4], \"is\", celsius[4])"
   ]
  },
  {
   "cell_type": "code",
   "execution_count": 51,
   "metadata": {},
   "outputs": [
    {
     "name": "stdout",
     "output_type": "stream",
     "text": [
      "The average temperature in Helsinki in June is 15.0\n"
     ]
    }
   ],
   "source": [
    "print(\"The average temperature in Helsinki in\", month[5], \"is\", celsius[5])"
   ]
  },
  {
   "cell_type": "code",
   "execution_count": 52,
   "metadata": {},
   "outputs": [
    {
     "name": "stdout",
     "output_type": "stream",
     "text": [
      "The average temperature in Helsinki in July is 18.0\n"
     ]
    }
   ],
   "source": [
    "print(\"The average temperature in Helsinki in\", month[6], \"is\", celsius[6])"
   ]
  },
  {
   "cell_type": "code",
   "execution_count": 53,
   "metadata": {},
   "outputs": [
    {
     "name": "stdout",
     "output_type": "stream",
     "text": [
      "The average temperature in Helsinki in August is 16.0\n"
     ]
    }
   ],
   "source": [
    "print(\"The average temperature in Helsinki in\", month[7], \"is\", celsius[7])"
   ]
  },
  {
   "cell_type": "code",
   "execution_count": 54,
   "metadata": {},
   "outputs": [
    {
     "name": "stdout",
     "output_type": "stream",
     "text": [
      "The average temperature in Helsinki in September is 11.5\n"
     ]
    }
   ],
   "source": [
    "print(\"The average temperature in Helsinki in\", month[8], \"is\", celsius[8])"
   ]
  },
  {
   "cell_type": "code",
   "execution_count": 55,
   "metadata": {},
   "outputs": [
    {
     "name": "stdout",
     "output_type": "stream",
     "text": [
      "The average temperature in Helsinki in October is 6.0\n"
     ]
    }
   ],
   "source": [
    "print(\"The average temperature in Helsinki in\", month[9], \"is\", celsius[9])"
   ]
  },
  {
   "cell_type": "code",
   "execution_count": 56,
   "metadata": {},
   "outputs": [
    {
     "name": "stdout",
     "output_type": "stream",
     "text": [
      "The average temperature in Helsinki in November is 2.0\n"
     ]
    }
   ],
   "source": [
    "print(\"The average temperature in Helsinki in\", month[10], \"is\", celsius[10])"
   ]
  },
  {
   "cell_type": "code",
   "execution_count": 57,
   "metadata": {},
   "outputs": [
    {
     "name": "stdout",
     "output_type": "stream",
     "text": [
      "The average temperature in Helsinki in December is -1.5\n"
     ]
    }
   ],
   "source": [
    "print(\"The average temperature in Helsinki in\", month[11], \"is\", celsius[11])"
   ]
  },
  {
   "cell_type": "markdown",
   "metadata": {
    "lines_to_next_cell": 0
   },
   "source": [
    "## Exercise 2.4 - Batch processing files with a `for` loop\n",
    "\n",
    "Batch processing is a common task in Python, where a set of data and/or files are analyzed one after another using the same script or program. In this exercise your goal is to produce a Python list of filenames that could be used to batch process the data they contain.\n",
    "\n",
    "For this exercise you should:\n",
    "\n",
    "- Use a `for` loop to create a Python list that produces the output below when you print the list:\n",
    "\n",
    "    ```\n",
    "    ['Station_0.txt', 'Station_1.txt', 'Station_2.txt', 'Station_3.txt',\n",
    "     'Station_4.txt', 'Station_5.txt', 'Station_6.txt', 'Station_7.txt',\n",
    "     'Station_8.txt', 'Station_9.txt', 'Station_10.txt', 'Station_11.txt',\n",
    "     'Station_12.txt', 'Station_13.txt', 'Station_14.txt', 'Station_15.txt',\n",
    "     'Station_16.txt', 'Station_17.txt', 'Station_18.txt', 'Station_19.txt',\n",
    "     'Station_20.txt']\n",
    "    ```\n"
   ]
  },
  {
   "cell_type": "code",
   "execution_count": 59,
   "metadata": {},
   "outputs": [],
   "source": [
    "station_number = ['Station_0.txt', 'Station_1.txt', 'Station_2.txt', 'Station_3.txt',\n",
    " 'Station_4.txt', 'Station_5.txt', 'Station_6.txt', 'Station_7.txt',\n",
    " 'Station_8.txt', 'Station_9.txt', 'Station_10.txt', 'Station_11.txt',\n",
    " 'Station_12.txt', 'Station_13.txt', 'Station_14.txt', 'Station_15.txt',\n",
    " 'Station_16.txt', 'Station_17.txt', 'Station_18.txt', 'Station_19.txt',\n",
    " 'Station_20.txt']"
   ]
  },
  {
   "cell_type": "code",
   "execution_count": 60,
   "metadata": {},
   "outputs": [
    {
     "name": "stdout",
     "output_type": "stream",
     "text": [
      "Station_0.txt\n",
      "Station_1.txt\n",
      "Station_2.txt\n",
      "Station_3.txt\n",
      "Station_4.txt\n",
      "Station_5.txt\n",
      "Station_6.txt\n",
      "Station_7.txt\n",
      "Station_8.txt\n",
      "Station_9.txt\n",
      "Station_10.txt\n",
      "Station_11.txt\n",
      "Station_12.txt\n",
      "Station_13.txt\n",
      "Station_14.txt\n",
      "Station_15.txt\n",
      "Station_16.txt\n",
      "Station_17.txt\n",
      "Station_18.txt\n",
      "Station_19.txt\n",
      "Station_20.txt\n"
     ]
    }
   ],
   "source": [
    "for station in station_number:\n",
    "    print(station)"
   ]
  },
  {
   "cell_type": "markdown",
   "metadata": {},
   "source": [
    "## Exercise 2.5 - Classifying temperatures\n",
    "\n",
    "Data classification is another useful data analysis concept, where data values are sorted into different groups that help you to interpret the data. Your goal in this exercise is to sort a list of temperatures into four categories using a Python list for each category (Table 2.7):\n",
    "\n",
    ": _**Table 2.7**. Temperature categories and ranges for Exercise 2.5 and 2.7._\n",
    "\n",
    "|Category    |Temperature range                  | List name     |\n",
    "|:-----------|:----------------------------------|:-------------:|\n",
    "|Cold        |Less than -2 deg. C                | `cold`        |\n",
    "|Slippery    |Greater than or equal to -2 deg. C | `slippery`    |\n",
    "|            |and less than +2 deg. C            |               |\n",
    "|Comfortable |Greater than or equal to +2 deg. C | `comfortable` |\n",
    "|            |and less than +15 deg. C           |               |\n",
    "|Warm        |Greater than or equal to +2 deg. C | `warm`        |\n",
    "\n",
    "The list of temperatures below were measured at the Helsinki Malmi Airport in April 2013 with night, day, and evening temperatures recorded for each day.\n",
    "\n",
    "```python\n",
    "temperatures = [-5.4, 1.0, -1.3, -4.8, 3.9, 0.1, -4.4, 4.0, -2.2, -3.9, 4.4,\n",
    "                -2.5, -4.6, 5.1, 2.1, -2.4, 1.9, -3.3, -4.8, 1.0, -0.8, -2.8,\n",
    "                -0.1, -4.7, -5.6, 2.6, -2.7, -4.6, 3.4, -0.4, -0.9, 3.1, 2.4,\n",
    "                1.6, 4.2, 3.5, 2.6, 3.1, 2.2, 1.8, 3.3, 1.6, 1.5, 4.7, 4.0,\n",
    "                3.6, 4.9, 4.8, 5.3, 5.6, 4.1, 3.7, 7.6, 6.9, 5.1, 6.4, 3.8,\n",
    "                4.0, 8.6, 4.1, 1.4, 8.9, 3.0, 1.6, 8.5, 4.7, 6.6, 8.1, 4.5,\n",
    "                4.8, 11.3, 4.7, 5.2, 11.5, 6.2, 2.9, 4.3, 2.8, 2.8, 6.3, 2.6,\n",
    "                -0.0, 7.3, 3.4, 4.7, 9.3, 6.4, 5.4, 7.6, 5.2]\n",
    "```\n",
    "\n",
    "For this exercise you should:\n",
    "\n",
    "- Use a `for` loop and conditional statments (e.g., `if`, `elif`, and `else`) to sort the temperatures in the list into the lists associated with each category (see Table 2.7).\n",
    "    - *Hint*: Create the empty lists before the start of the `for` loop.\n",
    "- Answer the following questions:\n",
    "    - How many times was it cold in Helsinki in April 2013?\n",
    "    - How many times was it comfortable?\n",
    "    - Was it ever warm?"
   ]
  },
  {
   "cell_type": "markdown",
   "metadata": {},
   "source": [
    "## Exercise 2.6 - A temperature conversion function\n",
    "\n",
    "Functions are commonly used for small calculations that occur frequently within a program, such as converting between units.\n",
    "\n",
    "For this problem you should:\n",
    "\n",
    "- Create a function to converts temperature in degrees Fahrenheit to degrees Celsius.\n",
    "    - Be sure to include a docstring in the function definition.\n",
    "- Use the new function to convert the temperatures below to Celsius:\n",
    "    - 32 °F\n",
    "    - 68 °F\n",
    "    - 91 °F\n",
    "    - -17 °F"
   ]
  },
  {
   "cell_type": "markdown",
   "metadata": {},
   "source": [
    "## Exercise 2.7 - A temperature classifier function\n",
    "\n",
    "This exercise uses the same logic presented in Exercise 2.5 to classify temperatures, but now using a function.\n",
    "\n",
    "In this exercise you should:\n",
    "\n",
    "- Create a function that classifies temperatures based on Table 2.8.\n",
    "    - The function should return the following values for the different categories\n",
    "        - `0`: Cold\n",
    "        - `1`: Slippery\n",
    "        - `2`: Comfortable\n",
    "        - `3`: Warm\n",
    "- Use the function to calculate the returned value the following temperatures:\n",
    "    - +17 °C\n",
    "    - +2 °C\n",
    "    - +1.9 °C\n",
    "    - -2 °C"
   ]
  }
 ],
 "metadata": {
  "kernelspec": {
   "display_name": "Python 3 (ipykernel)",
   "language": "python",
   "name": "python3"
  },
  "language_info": {
   "codemirror_mode": {
    "name": "ipython",
    "version": 3
   },
   "file_extension": ".py",
   "mimetype": "text/x-python",
   "name": "python",
   "nbconvert_exporter": "python",
   "pygments_lexer": "ipython3",
   "version": "3.9.15"
  },
  "vscode": {
   "interpreter": {
    "hash": "e460e709f58070950c65c0c33823686acb388113d15269e91ed6fb063a69ef02"
   }
  }
 },
 "nbformat": 4,
 "nbformat_minor": 4
}
