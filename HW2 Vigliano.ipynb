{
 "cells": [
  {
   "cell_type": "markdown",
   "id": "8a7e0aec-775d-4d4f-a27a-65d2c5af26ba",
   "metadata": {},
   "source": [
    "## Section 2.5-2.7 from HW 1"
   ]
  },
  {
   "cell_type": "markdown",
   "id": "70235445-33b0-4c46-96bb-6f791d51dcab",
   "metadata": {},
   "source": [
    "## Solution to 2.5"
   ]
  },
  {
   "cell_type": "code",
   "execution_count": 1,
   "id": "c310641a-d972-4665-a2bf-08909c84db04",
   "metadata": {},
   "outputs": [],
   "source": [
    "temperature = [-5.4, 1.0, -1.3, -4.8, 3.9, 0.1, -4.4, 4.0, -2.2, -3.9, 4.4,\n",
    "                -2.5, -4.6, 5.1, 2.1, -2.4, 1.9, -3.3, -4.8, 1.0, -0.8, -2.8,\n",
    "                -0.1, -4.7, -5.6, 2.6, -2.7, -4.6, 3.4, -0.4, -0.9, 3.1, 2.4,\n",
    "                1.6, 4.2, 3.5, 2.6, 3.1, 2.2, 1.8, 3.3, 1.6, 1.5, 4.7, 4.0,\n",
    "                3.6, 4.9, 4.8, 5.3, 5.6, 4.1, 3.7, 7.6, 6.9, 5.1, 6.4, 3.8,\n",
    "                4.0, 8.6, 4.1, 1.4, 8.9, 3.0, 1.6, 8.5, 4.7, 6.6, 8.1, 4.5,\n",
    "                4.8, 11.3, 4.7, 5.2, 11.5, 6.2, 2.9, 4.3, 2.8, 2.8, 6.3, 2.6,\n",
    "                -0.0, 7.3, 3.4, 4.7, 9.3, 6.4, 5.4, 7.6, 5.2]"
   ]
  },
  {
   "cell_type": "code",
   "execution_count": 2,
   "id": "012c9e8b-3686-44a4-82ad-3b6b7095b1e4",
   "metadata": {},
   "outputs": [],
   "source": [
    "cold = []\n",
    "slippery = []\n",
    "comfortable = []\n",
    "warm = []\n",
    "\n",
    "for i in range(len(temperature)):\n",
    "    if temperature[i] < -2.0:\n",
    "        cold.append(temperature[i])\n",
    "    elif (temperature[i] >= -2.0) and (temperature[i] < 2.0):\n",
    "        slippery.append(temperature[i])\n",
    "    elif (temperature[i] >= 2.0) and (temperature[i] < 15.0):\n",
    "        comfortable.append(temperature[i])\n",
    "    elif temperature[i] >= 2.0:\n",
    "        warm.append(temperature[i])"
   ]
  },
  {
   "cell_type": "code",
   "execution_count": 3,
   "id": "55879562-47d4-4169-916f-18eb9cd10bce",
   "metadata": {},
   "outputs": [
    {
     "name": "stdout",
     "output_type": "stream",
     "text": [
      "15\n"
     ]
    }
   ],
   "source": [
    "print(len(cold))"
   ]
  },
  {
   "cell_type": "code",
   "execution_count": 4,
   "id": "b439c4ca-7e6f-42c4-bfd1-8fe5e12184a1",
   "metadata": {},
   "outputs": [
    {
     "name": "stdout",
     "output_type": "stream",
     "text": [
      "59\n"
     ]
    }
   ],
   "source": [
    "print(len(comfortable))"
   ]
  },
  {
   "cell_type": "code",
   "execution_count": 5,
   "id": "b2ac7f7e-a6eb-456f-9d79-570f278d8465",
   "metadata": {},
   "outputs": [
    {
     "name": "stdout",
     "output_type": "stream",
     "text": [
      "0\n"
     ]
    }
   ],
   "source": [
    "print(len(warm))"
   ]
  },
  {
   "cell_type": "markdown",
   "id": "007d0a2d-a828-43d8-ae4a-adbc9e87aa22",
   "metadata": {},
   "source": [
    "## Solution for section 2.6"
   ]
  },
  {
   "cell_type": "code",
   "execution_count": 6,
   "id": "b65a552c-280c-4994-af52-6bb6591b366f",
   "metadata": {},
   "outputs": [],
   "source": [
    "def fahr_to_celsius(temp):\n",
    "    deg_C = (temp - 32) * 5/9\n",
    "    return deg_C"
   ]
  },
  {
   "cell_type": "code",
   "execution_count": 8,
   "id": "410befe6-d8d9-479c-9ba4-a866518fb220",
   "metadata": {},
   "outputs": [
    {
     "data": {
      "text/plain": [
       "0.0"
      ]
     },
     "execution_count": 8,
     "metadata": {},
     "output_type": "execute_result"
    }
   ],
   "source": [
    "temp = 32\n",
    "\n",
    "fahr_to_celsius(temp)"
   ]
  },
  {
   "cell_type": "code",
   "execution_count": 9,
   "id": "3b51bb93-c5d2-44f0-92d0-a13a7eaaacbd",
   "metadata": {},
   "outputs": [
    {
     "data": {
      "text/plain": [
       "20.0"
      ]
     },
     "execution_count": 9,
     "metadata": {},
     "output_type": "execute_result"
    }
   ],
   "source": [
    "temp = 68\n",
    "\n",
    "fahr_to_celsius(temp)"
   ]
  },
  {
   "cell_type": "code",
   "execution_count": 10,
   "id": "263a749f-50f7-4bfe-bf2f-27824c0836bc",
   "metadata": {},
   "outputs": [
    {
     "data": {
      "text/plain": [
       "32.77777777777778"
      ]
     },
     "execution_count": 10,
     "metadata": {},
     "output_type": "execute_result"
    }
   ],
   "source": [
    "temp = 91\n",
    "\n",
    "fahr_to_celsius(temp)"
   ]
  },
  {
   "cell_type": "code",
   "execution_count": 11,
   "id": "d17ca8ad-aab2-437e-a78a-8c03c48a1e64",
   "metadata": {},
   "outputs": [
    {
     "data": {
      "text/plain": [
       "-27.22222222222222"
      ]
     },
     "execution_count": 11,
     "metadata": {},
     "output_type": "execute_result"
    }
   ],
   "source": [
    "temp = -17\n",
    "\n",
    "fahr_to_celsius(temp)"
   ]
  },
  {
   "cell_type": "markdown",
   "id": "9d7f13a6-c174-4e25-9db0-b05234c63be7",
   "metadata": {},
   "source": [
    "## Solution for 2.7"
   ]
  },
  {
   "cell_type": "code",
   "execution_count": 53,
   "id": "2ff72ed3-2331-4f03-b97b-d6cfa875f482",
   "metadata": {},
   "outputs": [],
   "source": [
    "def classify_temp(temperature):\n",
    "    if temperature < -2.0:\n",
    "        return 0\n",
    "    elif (temperature >= -2.0) and (temperature < 2.0):\n",
    "        return 1\n",
    "    elif (temperature >= 2.0) and (temperature < 15.0):\n",
    "        return 2\n",
    "    elif temperature >= 2.0:\n",
    "        return 3"
   ]
  },
  {
   "cell_type": "code",
   "execution_count": 54,
   "id": "f0cf1faa-2753-4d4c-9135-4ff89ca6614d",
   "metadata": {},
   "outputs": [],
   "source": [
    "temps = [17.0, 2.0, 1.9, -2]"
   ]
  },
  {
   "cell_type": "code",
   "execution_count": 55,
   "id": "c28dce84-ca4e-48b7-885b-62cbb6adb1ea",
   "metadata": {},
   "outputs": [
    {
     "name": "stdout",
     "output_type": "stream",
     "text": [
      "3\n",
      "2\n",
      "1\n",
      "1\n"
     ]
    }
   ],
   "source": [
    "for i in range(len(temps)):\n",
    "    print(classify_temp(temps[i]))"
   ]
  },
  {
   "cell_type": "markdown",
   "id": "bc483179-081b-4623-ac89-a29e5f2b2be8",
   "metadata": {},
   "source": [
    "## Solution for 3.1"
   ]
  },
  {
   "cell_type": "code",
   "execution_count": 98,
   "id": "553b5750-e559-4c5d-bd43-1e0b573d6106",
   "metadata": {},
   "outputs": [],
   "source": [
    "import pandas as pd"
   ]
  },
  {
   "cell_type": "code",
   "execution_count": 99,
   "id": "bd3cbee9-a1a1-48d4-b1db-056e3c1ec1b7",
   "metadata": {},
   "outputs": [],
   "source": [
    "fp = \"data/6153237444115dat.csv\""
   ]
  },
  {
   "cell_type": "code",
   "execution_count": 100,
   "id": "1b069bd0-389f-474b-b88e-83646ce48ac4",
   "metadata": {},
   "outputs": [],
   "source": [
    "data = pd.read_csv(fp)"
   ]
  },
  {
   "cell_type": "code",
   "execution_count": 101,
   "id": "8d3105b8-449a-4dbf-8c41-2517e42cddeb",
   "metadata": {},
   "outputs": [
    {
     "data": {
      "text/html": [
       "<div>\n",
       "<style scoped>\n",
       "    .dataframe tbody tr th:only-of-type {\n",
       "        vertical-align: middle;\n",
       "    }\n",
       "\n",
       "    .dataframe tbody tr th {\n",
       "        vertical-align: top;\n",
       "    }\n",
       "\n",
       "    .dataframe thead th {\n",
       "        text-align: right;\n",
       "    }\n",
       "</style>\n",
       "<table border=\"1\" class=\"dataframe\">\n",
       "  <thead>\n",
       "    <tr style=\"text-align: right;\">\n",
       "      <th></th>\n",
       "      <th>USAF</th>\n",
       "      <th>WBAN</th>\n",
       "      <th>YR--MODAHRMN</th>\n",
       "      <th>DIR</th>\n",
       "      <th>SPD</th>\n",
       "      <th>GUS</th>\n",
       "      <th>CLG</th>\n",
       "      <th>SKC</th>\n",
       "      <th>L</th>\n",
       "      <th>M</th>\n",
       "      <th>...</th>\n",
       "      <th>SLP</th>\n",
       "      <th>ALT</th>\n",
       "      <th>STP</th>\n",
       "      <th>MAX</th>\n",
       "      <th>MIN</th>\n",
       "      <th>PCP01</th>\n",
       "      <th>PCP06</th>\n",
       "      <th>PCP24</th>\n",
       "      <th>PCPXX</th>\n",
       "      <th>SD</th>\n",
       "    </tr>\n",
       "  </thead>\n",
       "  <tbody>\n",
       "    <tr>\n",
       "      <th>0</th>\n",
       "      <td>28450</td>\n",
       "      <td>99999</td>\n",
       "      <td>201705010000</td>\n",
       "      <td>174</td>\n",
       "      <td>10</td>\n",
       "      <td>14</td>\n",
       "      <td>***</td>\n",
       "      <td>***</td>\n",
       "      <td>*</td>\n",
       "      <td>*</td>\n",
       "      <td>...</td>\n",
       "      <td>1009.2</td>\n",
       "      <td>*****</td>\n",
       "      <td>984.1</td>\n",
       "      <td>***</td>\n",
       "      <td>***</td>\n",
       "      <td>*****</td>\n",
       "      <td>*****</td>\n",
       "      <td>*****</td>\n",
       "      <td>*****</td>\n",
       "      <td>35</td>\n",
       "    </tr>\n",
       "    <tr>\n",
       "      <th>1</th>\n",
       "      <td>28450</td>\n",
       "      <td>99999</td>\n",
       "      <td>201705010020</td>\n",
       "      <td>180</td>\n",
       "      <td>10</td>\n",
       "      <td>***</td>\n",
       "      <td>4</td>\n",
       "      <td>***</td>\n",
       "      <td>*</td>\n",
       "      <td>*</td>\n",
       "      <td>...</td>\n",
       "      <td>******</td>\n",
       "      <td>29.74</td>\n",
       "      <td>******</td>\n",
       "      <td>***</td>\n",
       "      <td>***</td>\n",
       "      <td>*****</td>\n",
       "      <td>*****</td>\n",
       "      <td>*****</td>\n",
       "      <td>*****</td>\n",
       "      <td>**</td>\n",
       "    </tr>\n",
       "    <tr>\n",
       "      <th>2</th>\n",
       "      <td>28450</td>\n",
       "      <td>99999</td>\n",
       "      <td>201705010050</td>\n",
       "      <td>190</td>\n",
       "      <td>10</td>\n",
       "      <td>***</td>\n",
       "      <td>4</td>\n",
       "      <td>***</td>\n",
       "      <td>*</td>\n",
       "      <td>*</td>\n",
       "      <td>...</td>\n",
       "      <td>******</td>\n",
       "      <td>29.74</td>\n",
       "      <td>******</td>\n",
       "      <td>***</td>\n",
       "      <td>***</td>\n",
       "      <td>*****</td>\n",
       "      <td>*****</td>\n",
       "      <td>*****</td>\n",
       "      <td>*****</td>\n",
       "      <td>**</td>\n",
       "    </tr>\n",
       "    <tr>\n",
       "      <th>3</th>\n",
       "      <td>28450</td>\n",
       "      <td>99999</td>\n",
       "      <td>201705010100</td>\n",
       "      <td>188</td>\n",
       "      <td>12</td>\n",
       "      <td>16</td>\n",
       "      <td>***</td>\n",
       "      <td>***</td>\n",
       "      <td>*</td>\n",
       "      <td>*</td>\n",
       "      <td>...</td>\n",
       "      <td>1009.1</td>\n",
       "      <td>*****</td>\n",
       "      <td>984.0</td>\n",
       "      <td>***</td>\n",
       "      <td>***</td>\n",
       "      <td>*****</td>\n",
       "      <td>*****</td>\n",
       "      <td>*****</td>\n",
       "      <td>*****</td>\n",
       "      <td>35</td>\n",
       "    </tr>\n",
       "    <tr>\n",
       "      <th>4</th>\n",
       "      <td>28450</td>\n",
       "      <td>99999</td>\n",
       "      <td>201705010120</td>\n",
       "      <td>200</td>\n",
       "      <td>13</td>\n",
       "      <td>***</td>\n",
       "      <td>2</td>\n",
       "      <td>OBS</td>\n",
       "      <td>*</td>\n",
       "      <td>*</td>\n",
       "      <td>...</td>\n",
       "      <td>******</td>\n",
       "      <td>29.74</td>\n",
       "      <td>******</td>\n",
       "      <td>***</td>\n",
       "      <td>***</td>\n",
       "      <td>*****</td>\n",
       "      <td>*****</td>\n",
       "      <td>*****</td>\n",
       "      <td>*****</td>\n",
       "      <td>**</td>\n",
       "    </tr>\n",
       "  </tbody>\n",
       "</table>\n",
       "<p>5 rows × 33 columns</p>\n",
       "</div>"
      ],
      "text/plain": [
       "    USAF   WBAN  YR--MODAHRMN  DIR SPD  GUS  CLG  SKC  L  M  ...     SLP  \\\n",
       "0  28450  99999  201705010000  174  10   14  ***  ***  *  *  ...  1009.2   \n",
       "1  28450  99999  201705010020  180  10  ***    4  ***  *  *  ...  ******   \n",
       "2  28450  99999  201705010050  190  10  ***    4  ***  *  *  ...  ******   \n",
       "3  28450  99999  201705010100  188  12   16  ***  ***  *  *  ...  1009.1   \n",
       "4  28450  99999  201705010120  200  13  ***    2  OBS  *  *  ...  ******   \n",
       "\n",
       "     ALT     STP  MAX  MIN  PCP01  PCP06  PCP24  PCPXX  SD  \n",
       "0  *****   984.1  ***  ***  *****  *****  *****  *****  35  \n",
       "1  29.74  ******  ***  ***  *****  *****  *****  *****  **  \n",
       "2  29.74  ******  ***  ***  *****  *****  *****  *****  **  \n",
       "3  *****   984.0  ***  ***  *****  *****  *****  *****  35  \n",
       "4  29.74  ******  ***  ***  *****  *****  *****  *****  **  \n",
       "\n",
       "[5 rows x 33 columns]"
      ]
     },
     "execution_count": 101,
     "metadata": {},
     "output_type": "execute_result"
    }
   ],
   "source": [
    "data.head()"
   ]
  },
  {
   "cell_type": "markdown",
   "id": "046e3f5d-cadf-466a-9ddd-a0b27b918653",
   "metadata": {},
   "source": [
    "There are 5 rows.\n",
    "\n",
    "The column names are: 'USAF', 'WBAN', 'YR--MODAHRMN', 'DIR', 'SPD', 'GUS', 'CLG', 'SKC', 'L',\n",
    "       'M', 'H', 'VSB', 'MW', 'MW.1', 'MW.2', 'MW.3', 'AW', 'AW.1', 'AW.2',\n",
    "       'AW.3', 'W', 'TEMP', 'DEWP', 'SLP', 'ALT', 'STP', 'MAX', 'MIN', 'PCP01',\n",
    "       'PCP06', 'PCP24', 'PCPXX', 'SD'],\n",
    "\n",
    "The data types of the columns are below"
   ]
  },
  {
   "cell_type": "code",
   "execution_count": 102,
   "id": "f7336445-d970-40b3-9c6e-026ee07a831a",
   "metadata": {},
   "outputs": [
    {
     "data": {
      "text/plain": [
       "USAF             int64\n",
       "WBAN             int64\n",
       "YR--MODAHRMN     int64\n",
       "DIR             object\n",
       "SPD             object\n",
       "GUS             object\n",
       "CLG             object\n",
       "SKC             object\n",
       "L               object\n",
       "M               object\n",
       "H               object\n",
       "VSB             object\n",
       "MW              object\n",
       "MW.1            object\n",
       "MW.2            object\n",
       "MW.3            object\n",
       "AW              object\n",
       "AW.1            object\n",
       "AW.2            object\n",
       "AW.3            object\n",
       "W               object\n",
       "TEMP            object\n",
       "DEWP            object\n",
       "SLP             object\n",
       "ALT             object\n",
       "STP             object\n",
       "MAX             object\n",
       "MIN             object\n",
       "PCP01           object\n",
       "PCP06           object\n",
       "PCP24           object\n",
       "PCPXX           object\n",
       "SD              object\n",
       "dtype: object"
      ]
     },
     "execution_count": 102,
     "metadata": {},
     "output_type": "execute_result"
    }
   ],
   "source": [
    "data.dtypes"
   ]
  },
  {
   "cell_type": "code",
   "execution_count": 103,
   "id": "d792b894-792c-4e14-9a61-53944e61238d",
   "metadata": {},
   "outputs": [
    {
     "data": {
      "text/plain": [
       "Index(['USAF', 'WBAN', 'YR--MODAHRMN', 'DIR', 'SPD', 'GUS', 'CLG', 'SKC', 'L',\n",
       "       'M', 'H', 'VSB', 'MW', 'MW.1', 'MW.2', 'MW.3', 'AW', 'AW.1', 'AW.2',\n",
       "       'AW.3', 'W', 'TEMP', 'DEWP', 'SLP', 'ALT', 'STP', 'MAX', 'MIN', 'PCP01',\n",
       "       'PCP06', 'PCP24', 'PCPXX', 'SD'],\n",
       "      dtype='object')"
      ]
     },
     "execution_count": 103,
     "metadata": {},
     "output_type": "execute_result"
    }
   ],
   "source": [
    "data.columns"
   ]
  },
  {
   "cell_type": "code",
   "execution_count": 104,
   "id": "bdd6bb11-7a19-4434-b8d6-d27fad84130c",
   "metadata": {},
   "outputs": [
    {
     "data": {
      "text/html": [
       "<div>\n",
       "<style scoped>\n",
       "    .dataframe tbody tr th:only-of-type {\n",
       "        vertical-align: middle;\n",
       "    }\n",
       "\n",
       "    .dataframe tbody tr th {\n",
       "        vertical-align: top;\n",
       "    }\n",
       "\n",
       "    .dataframe thead th {\n",
       "        text-align: right;\n",
       "    }\n",
       "</style>\n",
       "<table border=\"1\" class=\"dataframe\">\n",
       "  <thead>\n",
       "    <tr style=\"text-align: right;\">\n",
       "      <th></th>\n",
       "      <th>TEMP</th>\n",
       "    </tr>\n",
       "  </thead>\n",
       "  <tbody>\n",
       "    <tr>\n",
       "      <th>0</th>\n",
       "      <td>31</td>\n",
       "    </tr>\n",
       "    <tr>\n",
       "      <th>1</th>\n",
       "      <td>30</td>\n",
       "    </tr>\n",
       "    <tr>\n",
       "      <th>2</th>\n",
       "      <td>30</td>\n",
       "    </tr>\n",
       "    <tr>\n",
       "      <th>3</th>\n",
       "      <td>31</td>\n",
       "    </tr>\n",
       "    <tr>\n",
       "      <th>4</th>\n",
       "      <td>30</td>\n",
       "    </tr>\n",
       "    <tr>\n",
       "      <th>...</th>\n",
       "      <td>...</td>\n",
       "    </tr>\n",
       "    <tr>\n",
       "      <th>11689</th>\n",
       "      <td>64</td>\n",
       "    </tr>\n",
       "    <tr>\n",
       "      <th>11690</th>\n",
       "      <td>64</td>\n",
       "    </tr>\n",
       "    <tr>\n",
       "      <th>11691</th>\n",
       "      <td>64</td>\n",
       "    </tr>\n",
       "    <tr>\n",
       "      <th>11692</th>\n",
       "      <td>64</td>\n",
       "    </tr>\n",
       "    <tr>\n",
       "      <th>11693</th>\n",
       "      <td>64</td>\n",
       "    </tr>\n",
       "  </tbody>\n",
       "</table>\n",
       "<p>11694 rows × 1 columns</p>\n",
       "</div>"
      ],
      "text/plain": [
       "      TEMP\n",
       "0       31\n",
       "1       30\n",
       "2       30\n",
       "3       31\n",
       "4       30\n",
       "...    ...\n",
       "11689   64\n",
       "11690   64\n",
       "11691   64\n",
       "11692   64\n",
       "11693   64\n",
       "\n",
       "[11694 rows x 1 columns]"
      ]
     },
     "execution_count": 104,
     "metadata": {},
     "output_type": "execute_result"
    }
   ],
   "source": [
    "data.loc[0:11694, ['TEMP']]"
   ]
  },
  {
   "cell_type": "code",
   "execution_count": 140,
   "id": "d79f65ea-2a3b-460d-b96e-015cd9b66461",
   "metadata": {},
   "outputs": [],
   "source": [
    "temp_list = []\n",
    "for i  in range(len(data[\"TEMP\"])):\n",
    "    if data[\"TEMP\"][i] != \"****\":\n",
    "        temp_list.append(float(data[\"TEMP\"][i]))\n",
    "        \n",
    "# used to remove the blank data points and change the data points from str to float "
   ]
  },
  {
   "cell_type": "code",
   "execution_count": 106,
   "id": "9d638068-d9f1-4d87-818f-d251f5a36fd9",
   "metadata": {},
   "outputs": [
    {
     "data": {
      "text/plain": [
       "52.24796852279531"
      ]
     },
     "execution_count": 106,
     "metadata": {},
     "output_type": "execute_result"
    }
   ],
   "source": [
    "np.mean(temp_list)"
   ]
  },
  {
   "cell_type": "code",
   "execution_count": 107,
   "id": "9f69fa11-f872-45c7-ae20-4952f7eac114",
   "metadata": {},
   "outputs": [],
   "source": [
    "max_list = []\n",
    "for i  in range(len(data[\"MAX\"])):\n",
    "    if data[\"MAX\"][i] != \"***\":\n",
    "        max_list.append(float(data[\"MAX\"][i]))"
   ]
  },
  {
   "cell_type": "code",
   "execution_count": 108,
   "id": "39aa1e40-572c-43cc-ae87-9c9b5d40a281",
   "metadata": {},
   "outputs": [
    {
     "data": {
      "text/plain": [
       "10.297378706760895"
      ]
     },
     "execution_count": 108,
     "metadata": {},
     "output_type": "execute_result"
    }
   ],
   "source": [
    "np.std(max_list)"
   ]
  },
  {
   "cell_type": "code",
   "execution_count": 109,
   "id": "4ab413fc-42df-4d8f-879d-a68d5208b55a",
   "metadata": {},
   "outputs": [
    {
     "data": {
      "text/plain": [
       "array([28450, 29980])"
      ]
     },
     "execution_count": 109,
     "metadata": {},
     "output_type": "execute_result"
    }
   ],
   "source": [
    "np.unique(data[\"USAF\"])"
   ]
  },
  {
   "cell_type": "markdown",
   "id": "7595b703-321f-46a0-81cd-2af431b3eeff",
   "metadata": {},
   "source": [
    "## Solution for 3.2"
   ]
  },
  {
   "cell_type": "code",
   "execution_count": 117,
   "id": "2f67dbc9-92fb-4ea8-a955-56bb82e439d7",
   "metadata": {},
   "outputs": [
    {
     "name": "stdout",
     "output_type": "stream",
     "text": [
      "['USAF', 'YR--MODAHRMN', 'TEMP', 'MAX', 'MIN']\n"
     ]
    }
   ],
   "source": [
    "selected = [\"USAF\", \"YR--MODAHRMN\", \"TEMP\", \"MAX\", \"MIN\"]\n",
    "print(selected)"
   ]
  },
  {
   "cell_type": "code",
   "execution_count": 118,
   "id": "04ff2577-f907-4578-ab6b-b97ca7d1df14",
   "metadata": {},
   "outputs": [
    {
     "data": {
      "text/plain": [
       "0        31\n",
       "1        30\n",
       "2        30\n",
       "3        31\n",
       "4        30\n",
       "         ..\n",
       "11689    64\n",
       "11690    64\n",
       "11691    64\n",
       "11692    64\n",
       "11693    64\n",
       "Name: TEMP, Length: 11694, dtype: object"
      ]
     },
     "execution_count": 118,
     "metadata": {},
     "output_type": "execute_result"
    }
   ],
   "source": [
    "data[\"TEMP\"].dropna()"
   ]
  },
  {
   "cell_type": "code",
   "execution_count": 120,
   "id": "10fd1c9f-d740-44d9-a10b-7de5eb7d5367",
   "metadata": {},
   "outputs": [
    {
     "data": {
      "text/html": [
       "<div>\n",
       "<style scoped>\n",
       "    .dataframe tbody tr th:only-of-type {\n",
       "        vertical-align: middle;\n",
       "    }\n",
       "\n",
       "    .dataframe tbody tr th {\n",
       "        vertical-align: top;\n",
       "    }\n",
       "\n",
       "    .dataframe thead th {\n",
       "        text-align: right;\n",
       "    }\n",
       "</style>\n",
       "<table border=\"1\" class=\"dataframe\">\n",
       "  <thead>\n",
       "    <tr style=\"text-align: right;\">\n",
       "      <th></th>\n",
       "      <th>USAF</th>\n",
       "      <th>WBAN</th>\n",
       "      <th>YR--MODAHRMN</th>\n",
       "      <th>DIR</th>\n",
       "      <th>SPD</th>\n",
       "      <th>GUS</th>\n",
       "      <th>CLG</th>\n",
       "      <th>SKC</th>\n",
       "      <th>L</th>\n",
       "      <th>M</th>\n",
       "      <th>...</th>\n",
       "      <th>ALT</th>\n",
       "      <th>STP</th>\n",
       "      <th>MAX</th>\n",
       "      <th>MIN</th>\n",
       "      <th>PCP01</th>\n",
       "      <th>PCP06</th>\n",
       "      <th>PCP24</th>\n",
       "      <th>PCPXX</th>\n",
       "      <th>SD</th>\n",
       "      <th>CELSIUS</th>\n",
       "    </tr>\n",
       "  </thead>\n",
       "  <tbody>\n",
       "    <tr>\n",
       "      <th>0</th>\n",
       "      <td>28450</td>\n",
       "      <td>99999</td>\n",
       "      <td>201705010000</td>\n",
       "      <td>174</td>\n",
       "      <td>10</td>\n",
       "      <td>14</td>\n",
       "      <td>***</td>\n",
       "      <td>***</td>\n",
       "      <td>*</td>\n",
       "      <td>*</td>\n",
       "      <td>...</td>\n",
       "      <td>*****</td>\n",
       "      <td>984.1</td>\n",
       "      <td>***</td>\n",
       "      <td>***</td>\n",
       "      <td>*****</td>\n",
       "      <td>*****</td>\n",
       "      <td>*****</td>\n",
       "      <td>*****</td>\n",
       "      <td>35</td>\n",
       "      <td>0.0</td>\n",
       "    </tr>\n",
       "    <tr>\n",
       "      <th>1</th>\n",
       "      <td>28450</td>\n",
       "      <td>99999</td>\n",
       "      <td>201705010020</td>\n",
       "      <td>180</td>\n",
       "      <td>10</td>\n",
       "      <td>***</td>\n",
       "      <td>4</td>\n",
       "      <td>***</td>\n",
       "      <td>*</td>\n",
       "      <td>*</td>\n",
       "      <td>...</td>\n",
       "      <td>29.74</td>\n",
       "      <td>******</td>\n",
       "      <td>***</td>\n",
       "      <td>***</td>\n",
       "      <td>*****</td>\n",
       "      <td>*****</td>\n",
       "      <td>*****</td>\n",
       "      <td>*****</td>\n",
       "      <td>**</td>\n",
       "      <td>0.0</td>\n",
       "    </tr>\n",
       "    <tr>\n",
       "      <th>2</th>\n",
       "      <td>28450</td>\n",
       "      <td>99999</td>\n",
       "      <td>201705010050</td>\n",
       "      <td>190</td>\n",
       "      <td>10</td>\n",
       "      <td>***</td>\n",
       "      <td>4</td>\n",
       "      <td>***</td>\n",
       "      <td>*</td>\n",
       "      <td>*</td>\n",
       "      <td>...</td>\n",
       "      <td>29.74</td>\n",
       "      <td>******</td>\n",
       "      <td>***</td>\n",
       "      <td>***</td>\n",
       "      <td>*****</td>\n",
       "      <td>*****</td>\n",
       "      <td>*****</td>\n",
       "      <td>*****</td>\n",
       "      <td>**</td>\n",
       "      <td>0.0</td>\n",
       "    </tr>\n",
       "    <tr>\n",
       "      <th>3</th>\n",
       "      <td>28450</td>\n",
       "      <td>99999</td>\n",
       "      <td>201705010100</td>\n",
       "      <td>188</td>\n",
       "      <td>12</td>\n",
       "      <td>16</td>\n",
       "      <td>***</td>\n",
       "      <td>***</td>\n",
       "      <td>*</td>\n",
       "      <td>*</td>\n",
       "      <td>...</td>\n",
       "      <td>*****</td>\n",
       "      <td>984.0</td>\n",
       "      <td>***</td>\n",
       "      <td>***</td>\n",
       "      <td>*****</td>\n",
       "      <td>*****</td>\n",
       "      <td>*****</td>\n",
       "      <td>*****</td>\n",
       "      <td>35</td>\n",
       "      <td>0.0</td>\n",
       "    </tr>\n",
       "    <tr>\n",
       "      <th>4</th>\n",
       "      <td>28450</td>\n",
       "      <td>99999</td>\n",
       "      <td>201705010120</td>\n",
       "      <td>200</td>\n",
       "      <td>13</td>\n",
       "      <td>***</td>\n",
       "      <td>2</td>\n",
       "      <td>OBS</td>\n",
       "      <td>*</td>\n",
       "      <td>*</td>\n",
       "      <td>...</td>\n",
       "      <td>29.74</td>\n",
       "      <td>******</td>\n",
       "      <td>***</td>\n",
       "      <td>***</td>\n",
       "      <td>*****</td>\n",
       "      <td>*****</td>\n",
       "      <td>*****</td>\n",
       "      <td>*****</td>\n",
       "      <td>**</td>\n",
       "      <td>0.0</td>\n",
       "    </tr>\n",
       "  </tbody>\n",
       "</table>\n",
       "<p>5 rows × 34 columns</p>\n",
       "</div>"
      ],
      "text/plain": [
       "    USAF   WBAN  YR--MODAHRMN  DIR SPD  GUS  CLG  SKC  L  M  ...    ALT  \\\n",
       "0  28450  99999  201705010000  174  10   14  ***  ***  *  *  ...  *****   \n",
       "1  28450  99999  201705010020  180  10  ***    4  ***  *  *  ...  29.74   \n",
       "2  28450  99999  201705010050  190  10  ***    4  ***  *  *  ...  29.74   \n",
       "3  28450  99999  201705010100  188  12   16  ***  ***  *  *  ...  *****   \n",
       "4  28450  99999  201705010120  200  13  ***    2  OBS  *  *  ...  29.74   \n",
       "\n",
       "      STP  MAX  MIN  PCP01  PCP06  PCP24  PCPXX  SD CELSIUS  \n",
       "0   984.1  ***  ***  *****  *****  *****  *****  35     0.0  \n",
       "1  ******  ***  ***  *****  *****  *****  *****  **     0.0  \n",
       "2  ******  ***  ***  *****  *****  *****  *****  **     0.0  \n",
       "3   984.0  ***  ***  *****  *****  *****  *****  35     0.0  \n",
       "4  ******  ***  ***  *****  *****  *****  *****  **     0.0  \n",
       "\n",
       "[5 rows x 34 columns]"
      ]
     },
     "execution_count": 120,
     "metadata": {},
     "output_type": "execute_result"
    }
   ],
   "source": [
    "data[\"CELSIUS\"] = 0.0\n",
    "data.head()"
   ]
  },
  {
   "cell_type": "code",
   "execution_count": 143,
   "id": "8ac5203d-dbc2-4711-9521-c726e70a6abd",
   "metadata": {},
   "outputs": [],
   "source": [
    "celsius = []\n",
    "for i in range(len(data[\"TEMP\"])):\n",
    "    if data[\"TEMP\"][i] != \"****\":\n",
    "        celsius.append((float(data[\"TEMP\"][i]) - 32) / 1.8)\n",
    "    else: \n",
    "        celsius.append(\"****\")"
   ]
  },
  {
   "cell_type": "code",
   "execution_count": 144,
   "id": "1775dd16-fe28-48ce-a88f-dd337348ad44",
   "metadata": {},
   "outputs": [],
   "source": [
    "data[\"CELSIUS\"] = celsius"
   ]
  },
  {
   "cell_type": "code",
   "execution_count": 171,
   "id": "5541f5ab-b4ec-444e-8dfc-119ff04386b0",
   "metadata": {},
   "outputs": [],
   "source": [
    "celsius_rounded = []\n",
    "for i in range(len(celsius)):\n",
    "    if celsius[i] != \"****\":\n",
    "        celsius_rounded.append(round(celsius[i]))\n",
    "    else:\n",
    "        celsius_rounded.append(\"****\")"
   ]
  },
  {
   "cell_type": "code",
   "execution_count": 173,
   "id": "528ac55c-4d6b-4f1a-9faa-a90fb7b5da91",
   "metadata": {},
   "outputs": [],
   "source": [
    "data[\"CELSIUS\"] = celsius_rounded"
   ]
  },
  {
   "cell_type": "code",
   "execution_count": 174,
   "id": "7532dccc-88ac-4510-8549-17cf6c13bda2",
   "metadata": {},
   "outputs": [
    {
     "data": {
      "text/plain": [
       "0        -1\n",
       "1        -1\n",
       "2        -1\n",
       "3        -1\n",
       "4        -1\n",
       "         ..\n",
       "11689    18\n",
       "11690    18\n",
       "11691    18\n",
       "11692    18\n",
       "11693    18\n",
       "Name: CELSIUS, Length: 11694, dtype: object"
      ]
     },
     "execution_count": 174,
     "metadata": {},
     "output_type": "execute_result"
    }
   ],
   "source": [
    "data[\"CELSIUS\"]"
   ]
  },
  {
   "cell_type": "code",
   "execution_count": 183,
   "id": "d8be387a-4b7e-4955-b3f0-88d816d34802",
   "metadata": {},
   "outputs": [],
   "source": [
    "celsius_list = []\n",
    "for i  in range(len(data[\"CELSIUS\"])):\n",
    "    if data[\"CELSIUS\"][i] != \"****\":\n",
    "        celsius_list.append(int(data[\"CELSIUS\"][i]))\n",
    "    else:\n",
    "        celsius_list.append(\"****\")"
   ]
  },
  {
   "cell_type": "markdown",
   "id": "d2c86a0b-9d8f-49e0-8e2b-3a2b48973aeb",
   "metadata": {},
   "source": [
    "\n",
    "- doing astype(int) does not work because of the non-data points. when removing the non-data, it changes the length of the data set and does not allow the astype(int) function to work"
   ]
  },
  {
   "cell_type": "code",
   "execution_count": 186,
   "id": "96c6b91e-b618-472e-9b96-7ddb3afaae7a",
   "metadata": {},
   "outputs": [
    {
     "name": "stdout",
     "output_type": "stream",
     "text": [
      "0        -1\n",
      "1        -1\n",
      "2        -1\n",
      "3        -1\n",
      "4        -1\n",
      "         ..\n",
      "11689    18\n",
      "11690    18\n",
      "11691    18\n",
      "11692    18\n",
      "11693    18\n",
      "Name: CELSIUS, Length: 11694, dtype: object\n"
     ]
    }
   ],
   "source": [
    "data[\"CELSIUS\"] = celsius_list\n",
    "print(data[\"CELSIUS\"])\n",
    "\n",
    "#it will never show all int because of the asterisks, but when \n",
    "# they're removed it doesn't work because the data set is a different lenth"
   ]
  },
  {
   "cell_type": "code",
   "execution_count": 199,
   "id": "fef1ba8a-6920-4aec-8c5e-fc77d1337275",
   "metadata": {},
   "outputs": [],
   "source": [
    "kumpula = data.loc[data[\"USAF\"] == 29980]"
   ]
  },
  {
   "cell_type": "code",
   "execution_count": 200,
   "id": "b688f2ea-15b1-4586-93f2-ae2d98fa4848",
   "metadata": {},
   "outputs": [
    {
     "data": {
      "text/html": [
       "<div>\n",
       "<style scoped>\n",
       "    .dataframe tbody tr th:only-of-type {\n",
       "        vertical-align: middle;\n",
       "    }\n",
       "\n",
       "    .dataframe tbody tr th {\n",
       "        vertical-align: top;\n",
       "    }\n",
       "\n",
       "    .dataframe thead th {\n",
       "        text-align: right;\n",
       "    }\n",
       "</style>\n",
       "<table border=\"1\" class=\"dataframe\">\n",
       "  <thead>\n",
       "    <tr style=\"text-align: right;\">\n",
       "      <th></th>\n",
       "      <th>USAF</th>\n",
       "      <th>WBAN</th>\n",
       "      <th>YR--MODAHRMN</th>\n",
       "      <th>DIR</th>\n",
       "      <th>SPD</th>\n",
       "      <th>GUS</th>\n",
       "      <th>CLG</th>\n",
       "      <th>SKC</th>\n",
       "      <th>L</th>\n",
       "      <th>M</th>\n",
       "      <th>...</th>\n",
       "      <th>ALT</th>\n",
       "      <th>STP</th>\n",
       "      <th>MAX</th>\n",
       "      <th>MIN</th>\n",
       "      <th>PCP01</th>\n",
       "      <th>PCP06</th>\n",
       "      <th>PCP24</th>\n",
       "      <th>PCPXX</th>\n",
       "      <th>SD</th>\n",
       "      <th>CELSIUS</th>\n",
       "    </tr>\n",
       "  </thead>\n",
       "  <tbody>\n",
       "    <tr>\n",
       "      <th>8770</th>\n",
       "      <td>29980</td>\n",
       "      <td>99999</td>\n",
       "      <td>201705010000</td>\n",
       "      <td>206</td>\n",
       "      <td>14</td>\n",
       "      <td>20</td>\n",
       "      <td>722</td>\n",
       "      <td>SCT</td>\n",
       "      <td>*</td>\n",
       "      <td>*</td>\n",
       "      <td>...</td>\n",
       "      <td>*****</td>\n",
       "      <td>1021.9</td>\n",
       "      <td>***</td>\n",
       "      <td>***</td>\n",
       "      <td>*****</td>\n",
       "      <td>*****</td>\n",
       "      <td>*****</td>\n",
       "      <td>*****</td>\n",
       "      <td>0</td>\n",
       "      <td>3</td>\n",
       "    </tr>\n",
       "    <tr>\n",
       "      <th>8771</th>\n",
       "      <td>29980</td>\n",
       "      <td>99999</td>\n",
       "      <td>201705010100</td>\n",
       "      <td>198</td>\n",
       "      <td>14</td>\n",
       "      <td>23</td>\n",
       "      <td>722</td>\n",
       "      <td>SCT</td>\n",
       "      <td>*</td>\n",
       "      <td>*</td>\n",
       "      <td>...</td>\n",
       "      <td>*****</td>\n",
       "      <td>1022.2</td>\n",
       "      <td>***</td>\n",
       "      <td>***</td>\n",
       "      <td>*****</td>\n",
       "      <td>*****</td>\n",
       "      <td>*****</td>\n",
       "      <td>*****</td>\n",
       "      <td>0</td>\n",
       "      <td>3</td>\n",
       "    </tr>\n",
       "    <tr>\n",
       "      <th>8772</th>\n",
       "      <td>29980</td>\n",
       "      <td>99999</td>\n",
       "      <td>201705010200</td>\n",
       "      <td>216</td>\n",
       "      <td>13</td>\n",
       "      <td>21</td>\n",
       "      <td>722</td>\n",
       "      <td>SCT</td>\n",
       "      <td>*</td>\n",
       "      <td>*</td>\n",
       "      <td>...</td>\n",
       "      <td>*****</td>\n",
       "      <td>1022.0</td>\n",
       "      <td>***</td>\n",
       "      <td>***</td>\n",
       "      <td>*****</td>\n",
       "      <td>*****</td>\n",
       "      <td>*****</td>\n",
       "      <td>*****</td>\n",
       "      <td>0</td>\n",
       "      <td>3</td>\n",
       "    </tr>\n",
       "    <tr>\n",
       "      <th>8773</th>\n",
       "      <td>29980</td>\n",
       "      <td>99999</td>\n",
       "      <td>201705010300</td>\n",
       "      <td>200</td>\n",
       "      <td>16</td>\n",
       "      <td>***</td>\n",
       "      <td>***</td>\n",
       "      <td>***</td>\n",
       "      <td>*</td>\n",
       "      <td>*</td>\n",
       "      <td>...</td>\n",
       "      <td>*****</td>\n",
       "      <td>1022.2</td>\n",
       "      <td>***</td>\n",
       "      <td>***</td>\n",
       "      <td>*****</td>\n",
       "      <td>*****</td>\n",
       "      <td>*****</td>\n",
       "      <td>*****</td>\n",
       "      <td>**</td>\n",
       "      <td>3</td>\n",
       "    </tr>\n",
       "    <tr>\n",
       "      <th>8774</th>\n",
       "      <td>29980</td>\n",
       "      <td>99999</td>\n",
       "      <td>201705010400</td>\n",
       "      <td>220</td>\n",
       "      <td>14</td>\n",
       "      <td>21</td>\n",
       "      <td>722</td>\n",
       "      <td>CLR</td>\n",
       "      <td>*</td>\n",
       "      <td>*</td>\n",
       "      <td>...</td>\n",
       "      <td>*****</td>\n",
       "      <td>1022.5</td>\n",
       "      <td>***</td>\n",
       "      <td>***</td>\n",
       "      <td>*****</td>\n",
       "      <td>*****</td>\n",
       "      <td>*****</td>\n",
       "      <td>*****</td>\n",
       "      <td>0</td>\n",
       "      <td>4</td>\n",
       "    </tr>\n",
       "    <tr>\n",
       "      <th>...</th>\n",
       "      <td>...</td>\n",
       "      <td>...</td>\n",
       "      <td>...</td>\n",
       "      <td>...</td>\n",
       "      <td>...</td>\n",
       "      <td>...</td>\n",
       "      <td>...</td>\n",
       "      <td>...</td>\n",
       "      <td>...</td>\n",
       "      <td>...</td>\n",
       "      <td>...</td>\n",
       "      <td>...</td>\n",
       "      <td>...</td>\n",
       "      <td>...</td>\n",
       "      <td>...</td>\n",
       "      <td>...</td>\n",
       "      <td>...</td>\n",
       "      <td>...</td>\n",
       "      <td>...</td>\n",
       "      <td>...</td>\n",
       "      <td>...</td>\n",
       "    </tr>\n",
       "    <tr>\n",
       "      <th>11689</th>\n",
       "      <td>29980</td>\n",
       "      <td>99999</td>\n",
       "      <td>201708311900</td>\n",
       "      <td>144</td>\n",
       "      <td>12</td>\n",
       "      <td>20</td>\n",
       "      <td>50</td>\n",
       "      <td>BKN</td>\n",
       "      <td>*</td>\n",
       "      <td>*</td>\n",
       "      <td>...</td>\n",
       "      <td>*****</td>\n",
       "      <td>1004.7</td>\n",
       "      <td>***</td>\n",
       "      <td>***</td>\n",
       "      <td>*****</td>\n",
       "      <td>*****</td>\n",
       "      <td>*****</td>\n",
       "      <td>*****</td>\n",
       "      <td>0</td>\n",
       "      <td>18</td>\n",
       "    </tr>\n",
       "    <tr>\n",
       "      <th>11690</th>\n",
       "      <td>29980</td>\n",
       "      <td>99999</td>\n",
       "      <td>201708312000</td>\n",
       "      <td>137</td>\n",
       "      <td>14</td>\n",
       "      <td>20</td>\n",
       "      <td>40</td>\n",
       "      <td>BKN</td>\n",
       "      <td>*</td>\n",
       "      <td>*</td>\n",
       "      <td>...</td>\n",
       "      <td>*****</td>\n",
       "      <td>1003.9</td>\n",
       "      <td>***</td>\n",
       "      <td>***</td>\n",
       "      <td>*****</td>\n",
       "      <td>*****</td>\n",
       "      <td>*****</td>\n",
       "      <td>*****</td>\n",
       "      <td>0</td>\n",
       "      <td>18</td>\n",
       "    </tr>\n",
       "    <tr>\n",
       "      <th>11691</th>\n",
       "      <td>29980</td>\n",
       "      <td>99999</td>\n",
       "      <td>201708312100</td>\n",
       "      <td>160</td>\n",
       "      <td>13</td>\n",
       "      <td>***</td>\n",
       "      <td>***</td>\n",
       "      <td>BKN</td>\n",
       "      <td>*</td>\n",
       "      <td>*</td>\n",
       "      <td>...</td>\n",
       "      <td>*****</td>\n",
       "      <td>1003.2</td>\n",
       "      <td>***</td>\n",
       "      <td>***</td>\n",
       "      <td>*****</td>\n",
       "      <td>*****</td>\n",
       "      <td>*****</td>\n",
       "      <td>*****</td>\n",
       "      <td>**</td>\n",
       "      <td>18</td>\n",
       "    </tr>\n",
       "    <tr>\n",
       "      <th>11692</th>\n",
       "      <td>29980</td>\n",
       "      <td>99999</td>\n",
       "      <td>201708312200</td>\n",
       "      <td>170</td>\n",
       "      <td>12</td>\n",
       "      <td>21</td>\n",
       "      <td>28</td>\n",
       "      <td>OVC</td>\n",
       "      <td>*</td>\n",
       "      <td>*</td>\n",
       "      <td>...</td>\n",
       "      <td>*****</td>\n",
       "      <td>1003.1</td>\n",
       "      <td>***</td>\n",
       "      <td>***</td>\n",
       "      <td>*****</td>\n",
       "      <td>*****</td>\n",
       "      <td>*****</td>\n",
       "      <td>*****</td>\n",
       "      <td>0</td>\n",
       "      <td>18</td>\n",
       "    </tr>\n",
       "    <tr>\n",
       "      <th>11693</th>\n",
       "      <td>29980</td>\n",
       "      <td>99999</td>\n",
       "      <td>201708312300</td>\n",
       "      <td>192</td>\n",
       "      <td>13</td>\n",
       "      <td>21</td>\n",
       "      <td>19</td>\n",
       "      <td>BKN</td>\n",
       "      <td>*</td>\n",
       "      <td>*</td>\n",
       "      <td>...</td>\n",
       "      <td>*****</td>\n",
       "      <td>1002.8</td>\n",
       "      <td>***</td>\n",
       "      <td>***</td>\n",
       "      <td>*****</td>\n",
       "      <td>*****</td>\n",
       "      <td>*****</td>\n",
       "      <td>*****</td>\n",
       "      <td>0</td>\n",
       "      <td>18</td>\n",
       "    </tr>\n",
       "  </tbody>\n",
       "</table>\n",
       "<p>2924 rows × 34 columns</p>\n",
       "</div>"
      ],
      "text/plain": [
       "        USAF   WBAN  YR--MODAHRMN  DIR SPD  GUS  CLG  SKC  L  M  ...    ALT  \\\n",
       "8770   29980  99999  201705010000  206  14   20  722  SCT  *  *  ...  *****   \n",
       "8771   29980  99999  201705010100  198  14   23  722  SCT  *  *  ...  *****   \n",
       "8772   29980  99999  201705010200  216  13   21  722  SCT  *  *  ...  *****   \n",
       "8773   29980  99999  201705010300  200  16  ***  ***  ***  *  *  ...  *****   \n",
       "8774   29980  99999  201705010400  220  14   21  722  CLR  *  *  ...  *****   \n",
       "...      ...    ...           ...  ...  ..  ...  ...  ... .. ..  ...    ...   \n",
       "11689  29980  99999  201708311900  144  12   20   50  BKN  *  *  ...  *****   \n",
       "11690  29980  99999  201708312000  137  14   20   40  BKN  *  *  ...  *****   \n",
       "11691  29980  99999  201708312100  160  13  ***  ***  BKN  *  *  ...  *****   \n",
       "11692  29980  99999  201708312200  170  12   21   28  OVC  *  *  ...  *****   \n",
       "11693  29980  99999  201708312300  192  13   21   19  BKN  *  *  ...  *****   \n",
       "\n",
       "          STP  MAX  MIN  PCP01  PCP06  PCP24  PCPXX  SD CELSIUS  \n",
       "8770   1021.9  ***  ***  *****  *****  *****  *****   0       3  \n",
       "8771   1022.2  ***  ***  *****  *****  *****  *****   0       3  \n",
       "8772   1022.0  ***  ***  *****  *****  *****  *****   0       3  \n",
       "8773   1022.2  ***  ***  *****  *****  *****  *****  **       3  \n",
       "8774   1022.5  ***  ***  *****  *****  *****  *****   0       4  \n",
       "...       ...  ...  ...    ...    ...    ...    ...  ..     ...  \n",
       "11689  1004.7  ***  ***  *****  *****  *****  *****   0      18  \n",
       "11690  1003.9  ***  ***  *****  *****  *****  *****   0      18  \n",
       "11691  1003.2  ***  ***  *****  *****  *****  *****  **      18  \n",
       "11692  1003.1  ***  ***  *****  *****  *****  *****   0      18  \n",
       "11693  1002.8  ***  ***  *****  *****  *****  *****   0      18  \n",
       "\n",
       "[2924 rows x 34 columns]"
      ]
     },
     "execution_count": 200,
     "metadata": {},
     "output_type": "execute_result"
    }
   ],
   "source": [
    "kumpula"
   ]
  },
  {
   "cell_type": "code",
   "execution_count": 201,
   "id": "af338f7c-4fa4-46bb-833a-52744cfbd074",
   "metadata": {},
   "outputs": [],
   "source": [
    "rovaniemi = data.loc[data[\"USAF\"] == 28450]"
   ]
  },
  {
   "cell_type": "code",
   "execution_count": 202,
   "id": "d0d578f0-9b52-4576-ad46-a2ee2d2dad8a",
   "metadata": {},
   "outputs": [
    {
     "data": {
      "text/html": [
       "<div>\n",
       "<style scoped>\n",
       "    .dataframe tbody tr th:only-of-type {\n",
       "        vertical-align: middle;\n",
       "    }\n",
       "\n",
       "    .dataframe tbody tr th {\n",
       "        vertical-align: top;\n",
       "    }\n",
       "\n",
       "    .dataframe thead th {\n",
       "        text-align: right;\n",
       "    }\n",
       "</style>\n",
       "<table border=\"1\" class=\"dataframe\">\n",
       "  <thead>\n",
       "    <tr style=\"text-align: right;\">\n",
       "      <th></th>\n",
       "      <th>USAF</th>\n",
       "      <th>WBAN</th>\n",
       "      <th>YR--MODAHRMN</th>\n",
       "      <th>DIR</th>\n",
       "      <th>SPD</th>\n",
       "      <th>GUS</th>\n",
       "      <th>CLG</th>\n",
       "      <th>SKC</th>\n",
       "      <th>L</th>\n",
       "      <th>M</th>\n",
       "      <th>...</th>\n",
       "      <th>ALT</th>\n",
       "      <th>STP</th>\n",
       "      <th>MAX</th>\n",
       "      <th>MIN</th>\n",
       "      <th>PCP01</th>\n",
       "      <th>PCP06</th>\n",
       "      <th>PCP24</th>\n",
       "      <th>PCPXX</th>\n",
       "      <th>SD</th>\n",
       "      <th>CELSIUS</th>\n",
       "    </tr>\n",
       "  </thead>\n",
       "  <tbody>\n",
       "    <tr>\n",
       "      <th>0</th>\n",
       "      <td>28450</td>\n",
       "      <td>99999</td>\n",
       "      <td>201705010000</td>\n",
       "      <td>174</td>\n",
       "      <td>10</td>\n",
       "      <td>14</td>\n",
       "      <td>***</td>\n",
       "      <td>***</td>\n",
       "      <td>*</td>\n",
       "      <td>*</td>\n",
       "      <td>...</td>\n",
       "      <td>*****</td>\n",
       "      <td>984.1</td>\n",
       "      <td>***</td>\n",
       "      <td>***</td>\n",
       "      <td>*****</td>\n",
       "      <td>*****</td>\n",
       "      <td>*****</td>\n",
       "      <td>*****</td>\n",
       "      <td>35</td>\n",
       "      <td>-1</td>\n",
       "    </tr>\n",
       "    <tr>\n",
       "      <th>1</th>\n",
       "      <td>28450</td>\n",
       "      <td>99999</td>\n",
       "      <td>201705010020</td>\n",
       "      <td>180</td>\n",
       "      <td>10</td>\n",
       "      <td>***</td>\n",
       "      <td>4</td>\n",
       "      <td>***</td>\n",
       "      <td>*</td>\n",
       "      <td>*</td>\n",
       "      <td>...</td>\n",
       "      <td>29.74</td>\n",
       "      <td>******</td>\n",
       "      <td>***</td>\n",
       "      <td>***</td>\n",
       "      <td>*****</td>\n",
       "      <td>*****</td>\n",
       "      <td>*****</td>\n",
       "      <td>*****</td>\n",
       "      <td>**</td>\n",
       "      <td>-1</td>\n",
       "    </tr>\n",
       "    <tr>\n",
       "      <th>2</th>\n",
       "      <td>28450</td>\n",
       "      <td>99999</td>\n",
       "      <td>201705010050</td>\n",
       "      <td>190</td>\n",
       "      <td>10</td>\n",
       "      <td>***</td>\n",
       "      <td>4</td>\n",
       "      <td>***</td>\n",
       "      <td>*</td>\n",
       "      <td>*</td>\n",
       "      <td>...</td>\n",
       "      <td>29.74</td>\n",
       "      <td>******</td>\n",
       "      <td>***</td>\n",
       "      <td>***</td>\n",
       "      <td>*****</td>\n",
       "      <td>*****</td>\n",
       "      <td>*****</td>\n",
       "      <td>*****</td>\n",
       "      <td>**</td>\n",
       "      <td>-1</td>\n",
       "    </tr>\n",
       "    <tr>\n",
       "      <th>3</th>\n",
       "      <td>28450</td>\n",
       "      <td>99999</td>\n",
       "      <td>201705010100</td>\n",
       "      <td>188</td>\n",
       "      <td>12</td>\n",
       "      <td>16</td>\n",
       "      <td>***</td>\n",
       "      <td>***</td>\n",
       "      <td>*</td>\n",
       "      <td>*</td>\n",
       "      <td>...</td>\n",
       "      <td>*****</td>\n",
       "      <td>984.0</td>\n",
       "      <td>***</td>\n",
       "      <td>***</td>\n",
       "      <td>*****</td>\n",
       "      <td>*****</td>\n",
       "      <td>*****</td>\n",
       "      <td>*****</td>\n",
       "      <td>35</td>\n",
       "      <td>-1</td>\n",
       "    </tr>\n",
       "    <tr>\n",
       "      <th>4</th>\n",
       "      <td>28450</td>\n",
       "      <td>99999</td>\n",
       "      <td>201705010120</td>\n",
       "      <td>200</td>\n",
       "      <td>13</td>\n",
       "      <td>***</td>\n",
       "      <td>2</td>\n",
       "      <td>OBS</td>\n",
       "      <td>*</td>\n",
       "      <td>*</td>\n",
       "      <td>...</td>\n",
       "      <td>29.74</td>\n",
       "      <td>******</td>\n",
       "      <td>***</td>\n",
       "      <td>***</td>\n",
       "      <td>*****</td>\n",
       "      <td>*****</td>\n",
       "      <td>*****</td>\n",
       "      <td>*****</td>\n",
       "      <td>**</td>\n",
       "      <td>-1</td>\n",
       "    </tr>\n",
       "    <tr>\n",
       "      <th>...</th>\n",
       "      <td>...</td>\n",
       "      <td>...</td>\n",
       "      <td>...</td>\n",
       "      <td>...</td>\n",
       "      <td>...</td>\n",
       "      <td>...</td>\n",
       "      <td>...</td>\n",
       "      <td>...</td>\n",
       "      <td>...</td>\n",
       "      <td>...</td>\n",
       "      <td>...</td>\n",
       "      <td>...</td>\n",
       "      <td>...</td>\n",
       "      <td>...</td>\n",
       "      <td>...</td>\n",
       "      <td>...</td>\n",
       "      <td>...</td>\n",
       "      <td>...</td>\n",
       "      <td>...</td>\n",
       "      <td>...</td>\n",
       "      <td>...</td>\n",
       "    </tr>\n",
       "    <tr>\n",
       "      <th>8765</th>\n",
       "      <td>28450</td>\n",
       "      <td>99999</td>\n",
       "      <td>201708312220</td>\n",
       "      <td>120</td>\n",
       "      <td>3</td>\n",
       "      <td>***</td>\n",
       "      <td>***</td>\n",
       "      <td>***</td>\n",
       "      <td>*</td>\n",
       "      <td>*</td>\n",
       "      <td>...</td>\n",
       "      <td>29.74</td>\n",
       "      <td>******</td>\n",
       "      <td>***</td>\n",
       "      <td>***</td>\n",
       "      <td>*****</td>\n",
       "      <td>*****</td>\n",
       "      <td>*****</td>\n",
       "      <td>*****</td>\n",
       "      <td>**</td>\n",
       "      <td>8</td>\n",
       "    </tr>\n",
       "    <tr>\n",
       "      <th>8766</th>\n",
       "      <td>28450</td>\n",
       "      <td>99999</td>\n",
       "      <td>201708312250</td>\n",
       "      <td>130</td>\n",
       "      <td>2</td>\n",
       "      <td>***</td>\n",
       "      <td>170</td>\n",
       "      <td>***</td>\n",
       "      <td>*</td>\n",
       "      <td>*</td>\n",
       "      <td>...</td>\n",
       "      <td>29.74</td>\n",
       "      <td>******</td>\n",
       "      <td>***</td>\n",
       "      <td>***</td>\n",
       "      <td>*****</td>\n",
       "      <td>*****</td>\n",
       "      <td>*****</td>\n",
       "      <td>*****</td>\n",
       "      <td>**</td>\n",
       "      <td>8</td>\n",
       "    </tr>\n",
       "    <tr>\n",
       "      <th>8767</th>\n",
       "      <td>28450</td>\n",
       "      <td>99999</td>\n",
       "      <td>201708312300</td>\n",
       "      <td>066</td>\n",
       "      <td>4</td>\n",
       "      <td>***</td>\n",
       "      <td>***</td>\n",
       "      <td>***</td>\n",
       "      <td>*</td>\n",
       "      <td>*</td>\n",
       "      <td>...</td>\n",
       "      <td>*****</td>\n",
       "      <td>983.3</td>\n",
       "      <td>***</td>\n",
       "      <td>***</td>\n",
       "      <td>*****</td>\n",
       "      <td>*****</td>\n",
       "      <td>*****</td>\n",
       "      <td>*****</td>\n",
       "      <td>**</td>\n",
       "      <td>9</td>\n",
       "    </tr>\n",
       "    <tr>\n",
       "      <th>8768</th>\n",
       "      <td>28450</td>\n",
       "      <td>99999</td>\n",
       "      <td>201708312320</td>\n",
       "      <td>150</td>\n",
       "      <td>5</td>\n",
       "      <td>***</td>\n",
       "      <td>***</td>\n",
       "      <td>***</td>\n",
       "      <td>*</td>\n",
       "      <td>*</td>\n",
       "      <td>...</td>\n",
       "      <td>29.74</td>\n",
       "      <td>******</td>\n",
       "      <td>***</td>\n",
       "      <td>***</td>\n",
       "      <td>*****</td>\n",
       "      <td>*****</td>\n",
       "      <td>*****</td>\n",
       "      <td>*****</td>\n",
       "      <td>**</td>\n",
       "      <td>8</td>\n",
       "    </tr>\n",
       "    <tr>\n",
       "      <th>8769</th>\n",
       "      <td>28450</td>\n",
       "      <td>99999</td>\n",
       "      <td>201708312350</td>\n",
       "      <td>160</td>\n",
       "      <td>6</td>\n",
       "      <td>***</td>\n",
       "      <td>***</td>\n",
       "      <td>***</td>\n",
       "      <td>*</td>\n",
       "      <td>*</td>\n",
       "      <td>...</td>\n",
       "      <td>29.71</td>\n",
       "      <td>******</td>\n",
       "      <td>***</td>\n",
       "      <td>***</td>\n",
       "      <td>*****</td>\n",
       "      <td>*****</td>\n",
       "      <td>*****</td>\n",
       "      <td>*****</td>\n",
       "      <td>**</td>\n",
       "      <td>9</td>\n",
       "    </tr>\n",
       "  </tbody>\n",
       "</table>\n",
       "<p>8770 rows × 34 columns</p>\n",
       "</div>"
      ],
      "text/plain": [
       "       USAF   WBAN  YR--MODAHRMN  DIR SPD  GUS  CLG  SKC  L  M  ...    ALT  \\\n",
       "0     28450  99999  201705010000  174  10   14  ***  ***  *  *  ...  *****   \n",
       "1     28450  99999  201705010020  180  10  ***    4  ***  *  *  ...  29.74   \n",
       "2     28450  99999  201705010050  190  10  ***    4  ***  *  *  ...  29.74   \n",
       "3     28450  99999  201705010100  188  12   16  ***  ***  *  *  ...  *****   \n",
       "4     28450  99999  201705010120  200  13  ***    2  OBS  *  *  ...  29.74   \n",
       "...     ...    ...           ...  ...  ..  ...  ...  ... .. ..  ...    ...   \n",
       "8765  28450  99999  201708312220  120   3  ***  ***  ***  *  *  ...  29.74   \n",
       "8766  28450  99999  201708312250  130   2  ***  170  ***  *  *  ...  29.74   \n",
       "8767  28450  99999  201708312300  066   4  ***  ***  ***  *  *  ...  *****   \n",
       "8768  28450  99999  201708312320  150   5  ***  ***  ***  *  *  ...  29.74   \n",
       "8769  28450  99999  201708312350  160   6  ***  ***  ***  *  *  ...  29.71   \n",
       "\n",
       "         STP  MAX  MIN  PCP01  PCP06  PCP24  PCPXX  SD CELSIUS  \n",
       "0      984.1  ***  ***  *****  *****  *****  *****  35      -1  \n",
       "1     ******  ***  ***  *****  *****  *****  *****  **      -1  \n",
       "2     ******  ***  ***  *****  *****  *****  *****  **      -1  \n",
       "3      984.0  ***  ***  *****  *****  *****  *****  35      -1  \n",
       "4     ******  ***  ***  *****  *****  *****  *****  **      -1  \n",
       "...      ...  ...  ...    ...    ...    ...    ...  ..     ...  \n",
       "8765  ******  ***  ***  *****  *****  *****  *****  **       8  \n",
       "8766  ******  ***  ***  *****  *****  *****  *****  **       8  \n",
       "8767   983.3  ***  ***  *****  *****  *****  *****  **       9  \n",
       "8768  ******  ***  ***  *****  *****  *****  *****  **       8  \n",
       "8769  ******  ***  ***  *****  *****  *****  *****  **       9  \n",
       "\n",
       "[8770 rows x 34 columns]"
      ]
     },
     "execution_count": 202,
     "metadata": {},
     "output_type": "execute_result"
    }
   ],
   "source": [
    "rovaniemi"
   ]
  },
  {
   "cell_type": "code",
   "execution_count": 205,
   "id": "27644144-1a86-48ec-a2ba-92c64655cf60",
   "metadata": {},
   "outputs": [],
   "source": [
    "kumpula.to_csv(\"Kumpula_temps_May_Aug_2017.csv\",  sep=',', float_format='%.2f')"
   ]
  },
  {
   "cell_type": "code",
   "execution_count": 206,
   "id": "6a052ab0-4f3e-4121-99ad-b10e249b6886",
   "metadata": {},
   "outputs": [],
   "source": [
    "rovaniemi.to_csv(\"Rovaniemi_temps_May_Aug_2017.csv\",  sep=',', float_format='%.2f')"
   ]
  },
  {
   "cell_type": "markdown",
   "id": "ad3f27e0-c352-41e5-8e6b-54ae83d1e804",
   "metadata": {},
   "source": [
    "## Solution for 3.3 (i started it, but then realized we should only go to 3.2)"
   ]
  },
  {
   "cell_type": "code",
   "execution_count": 211,
   "id": "345e3ca4-0cf8-4ba1-97d5-31260a08e125",
   "metadata": {},
   "outputs": [],
   "source": [
    "fp1 = \"Kumpula_temps_May_Aug_2017.csv\"\n",
    "kumpula = pd.read_csv(fp1)"
   ]
  },
  {
   "cell_type": "code",
   "execution_count": 212,
   "id": "0044c266-5554-42b5-b062-b7db9bced328",
   "metadata": {},
   "outputs": [],
   "source": [
    "fp2 = \"Rovaniemi_temps_May_Aug_2017.csv\"\n",
    "rovaniemi = pd.read_csv(fp2)"
   ]
  },
  {
   "cell_type": "code",
   "execution_count": 215,
   "id": "c36f0ea8-1d44-4a2e-b19d-e95d79861513",
   "metadata": {},
   "outputs": [
    {
     "name": "stdout",
     "output_type": "stream",
     "text": [
      "14.0\n"
     ]
    }
   ],
   "source": [
    "kumpula_median = kumpula[\"CELSIUS\"].median()\n",
    "print(kumpula_median)"
   ]
  },
  {
   "cell_type": "code",
   "execution_count": 236,
   "id": "dd855e03-f926-43f7-9f94-8232f85c98ad",
   "metadata": {},
   "outputs": [],
   "source": [
    "rovaniemi_list = []\n",
    "for i  in range(len(rovaniemi[\"CELSIUS\"])):\n",
    "    if rovaniemi[\"CELSIUS\"][i] != \"****\":\n",
    "        rovaniemi_list.append(int(rovaniemi[\"CELSIUS\"][i]))"
   ]
  },
  {
   "cell_type": "code",
   "execution_count": 244,
   "id": "849b64c4-925f-4f88-b157-211587b78b74",
   "metadata": {},
   "outputs": [
    {
     "name": "stdout",
     "output_type": "stream",
     "text": [
      "11.0\n"
     ]
    }
   ],
   "source": [
    "rovaniemi_median = np.median(rovaniemi_list)\n",
    "print(rovaniemi_median)"
   ]
  },
  {
   "cell_type": "code",
   "execution_count": null,
   "id": "0db1c432-0ae7-4111-8f96-3400f3489dbe",
   "metadata": {},
   "outputs": [],
   "source": []
  }
 ],
 "metadata": {
  "kernelspec": {
   "display_name": "Python 3 (ipykernel)",
   "language": "python",
   "name": "python3"
  },
  "language_info": {
   "codemirror_mode": {
    "name": "ipython",
    "version": 3
   },
   "file_extension": ".py",
   "mimetype": "text/x-python",
   "name": "python",
   "nbconvert_exporter": "python",
   "pygments_lexer": "ipython3",
   "version": "3.9.15"
  }
 },
 "nbformat": 4,
 "nbformat_minor": 5
}
