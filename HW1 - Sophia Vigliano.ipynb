{
 "cells": [
  {
   "cell_type": "markdown",
   "id": "bb4cdada-1275-4c52-992b-f181b6d35803",
   "metadata": {},
   "source": [
    "Solution for Exercise 2.1"
   ]
  },
  {
   "cell_type": "code",
   "execution_count": 1,
   "id": "e8274666-87ad-4354-bf89-d24a593030f8",
   "metadata": {},
   "outputs": [],
   "source": [
    "icecreamrating = 10\n",
    "sleeprating = 6\n",
    "name = \"sophia\" "
   ]
  },
  {
   "cell_type": "code",
   "execution_count": 2,
   "id": "51eb9c1e-24e2-47b8-8a62-d060e24f8c37",
   "metadata": {},
   "outputs": [
    {
     "name": "stdout",
     "output_type": "stream",
     "text": [
      "8.0\n"
     ]
    }
   ],
   "source": [
    "happiness = (icecreamrating + sleeprating)/2\n",
    "print(happiness)"
   ]
  },
  {
   "cell_type": "code",
   "execution_count": 3,
   "id": "37f12962-3e6c-40a8-8b1c-cbf3257b12a8",
   "metadata": {},
   "outputs": [
    {
     "data": {
      "text/plain": [
       "int"
      ]
     },
     "execution_count": 3,
     "metadata": {},
     "output_type": "execute_result"
    }
   ],
   "source": [
    "type(icecreamrating)"
   ]
  },
  {
   "cell_type": "code",
   "execution_count": 4,
   "id": "bd5b718c-2e16-4be4-bd86-ebe0c57c023f",
   "metadata": {},
   "outputs": [
    {
     "data": {
      "text/plain": [
       "int"
      ]
     },
     "execution_count": 4,
     "metadata": {},
     "output_type": "execute_result"
    }
   ],
   "source": [
    "type(sleeprating)"
   ]
  },
  {
   "cell_type": "code",
   "execution_count": 5,
   "id": "7bb10438-63c9-43bc-97f6-ccfe94c53be2",
   "metadata": {},
   "outputs": [
    {
     "data": {
      "text/plain": [
       "str"
      ]
     },
     "execution_count": 5,
     "metadata": {},
     "output_type": "execute_result"
    }
   ],
   "source": [
    "type(name)"
   ]
  },
  {
   "cell_type": "code",
   "execution_count": 6,
   "id": "51542174-2667-472a-911f-4cbc76fd98be",
   "metadata": {},
   "outputs": [
    {
     "data": {
      "text/plain": [
       "float"
      ]
     },
     "execution_count": 6,
     "metadata": {},
     "output_type": "execute_result"
    }
   ],
   "source": [
    "type(happiness)"
   ]
  },
  {
   "cell_type": "code",
   "execution_count": 7,
   "id": "1989752f-4878-4b9e-be49-ac83e13b1fdd",
   "metadata": {},
   "outputs": [
    {
     "name": "stdout",
     "output_type": "stream",
     "text": [
      "My name is sophia and I give eating ice cream a score of 10 out of 10! My sleeping enjoyment rating is 6 / 10! Based on the factors above, my happiness rating is 8.0 out of 10 or 80 %!\n"
     ]
    }
   ],
   "source": [
    "print(\"My name is\", name, \n",
    "      \"and I give eating ice cream a score of\", icecreamrating,\n",
    "      \"out of 10! My sleeping enjoyment rating is\", sleeprating, \"/ 10! Based on the factors above, my happiness rating is\", happiness, \"out of 10 or 80 %!\")"
   ]
  },
  {
   "cell_type": "markdown",
   "id": "4c13d5e5-8ad2-4b22-870c-023347191f50",
   "metadata": {},
   "source": [
    "Solution for Exercise 2.2"
   ]
  },
  {
   "cell_type": "code",
   "execution_count": 8,
   "id": "206737f3-0cd6-4587-bcb0-eb82c30f592e",
   "metadata": {},
   "outputs": [
    {
     "data": {
      "text/plain": [
       "['lighthouse', 'Harmaja', 'Sumenlinna aaltopoiju', 'Kumpula', 'Kaisaniemi']"
      ]
     },
     "execution_count": 8,
     "metadata": {},
     "output_type": "execute_result"
    }
   ],
   "source": [
    "station_names = [\"lighthouse\", \"Harmaja\", \"Sumenlinna aaltopoiju\", \"Kumpula\", \"Kaisaniemi\"]\n",
    "station_names"
   ]
  },
  {
   "cell_type": "code",
   "execution_count": 9,
   "id": "1d222ec5-cbac-427b-9ea9-7ab08e3324e0",
   "metadata": {},
   "outputs": [
    {
     "data": {
      "text/plain": [
       "['2003', '1989', '2016', '2005', '1844']"
      ]
     },
     "execution_count": 9,
     "metadata": {},
     "output_type": "execute_result"
    }
   ],
   "source": [
    "first_year_operation = [\"2003\", \"1989\", \"2016\", \"2005\", \"1844\"]\n",
    "first_year_operation"
   ]
  },
  {
   "cell_type": "code",
   "execution_count": 10,
   "id": "72e0ea3b-5397-4dd2-a317-6fc1650043b3",
   "metadata": {},
   "outputs": [
    {
     "data": {
      "text/plain": [
       "['lighthouse',\n",
       " 'Harmaja',\n",
       " 'Sumenlinna aaltopoiju',\n",
       " 'Kumpula',\n",
       " 'Kaisaniemi',\n",
       " 'Malmi airfield',\n",
       " 'Vuosaari harbor',\n",
       " 'Kaivopuisto']"
      ]
     },
     "execution_count": 10,
     "metadata": {},
     "output_type": "execute_result"
    }
   ],
   "source": [
    "station_names.append(\"Malmi airfield\")\n",
    "station_names.append(\"Vuosaari harbor\")\n",
    "station_names.append(\"Kaivopuisto\")\n",
    "station_names"
   ]
  },
  {
   "cell_type": "code",
   "execution_count": 11,
   "id": "788a00f8-a00f-4bc2-a969-f2f4f5503dc4",
   "metadata": {},
   "outputs": [
    {
     "data": {
      "text/plain": [
       "['2003', '1989', '2016', '2005', '1844', '1937', '2012', '1904']"
      ]
     },
     "execution_count": 11,
     "metadata": {},
     "output_type": "execute_result"
    }
   ],
   "source": [
    "first_year_operation.append(\"1937\")\n",
    "first_year_operation.append(\"2012\")\n",
    "first_year_operation.append(\"1904\")\n",
    "first_year_operation"
   ]
  },
  {
   "cell_type": "code",
   "execution_count": 12,
   "id": "f6a8730e-c31c-4798-9111-7367f2c66909",
   "metadata": {},
   "outputs": [
    {
     "data": {
      "text/plain": [
       "['Harmaja',\n",
       " 'Kaisaniemi',\n",
       " 'Kaivopuisto',\n",
       " 'Kumpula',\n",
       " 'lighthouse',\n",
       " 'Malmi airfield',\n",
       " 'Sumenlinna aaltopoiju',\n",
       " 'Vuosaari harbor']"
      ]
     },
     "execution_count": 12,
     "metadata": {},
     "output_type": "execute_result"
    }
   ],
   "source": [
    "station_names.sort(key=str.lower)\n",
    "station_names\n",
    "# need to consider the lighthouse bc it's lowercase and will otherwise be last"
   ]
  },
  {
   "cell_type": "code",
   "execution_count": 13,
   "id": "4bb16c47-4b03-4eca-b3d6-a82b866a56cc",
   "metadata": {},
   "outputs": [
    {
     "data": {
      "text/plain": [
       "['1844', '1904', '1937', '1989', '2003', '2005', '2012', '2016']"
      ]
     },
     "execution_count": 13,
     "metadata": {},
     "output_type": "execute_result"
    }
   ],
   "source": [
    "first_year_operation.sort()\n",
    "first_year_operation\n",
    "# the years are in order by date, but do not align with the station names"
   ]
  },
  {
   "cell_type": "code",
   "execution_count": 14,
   "id": "0bdd7880-c7b9-41e9-849a-47f6cc5d1522",
   "metadata": {},
   "outputs": [
    {
     "data": {
      "text/plain": [
       "[('Harmaja', '1844'),\n",
       " ('Kaisaniemi', '1904'),\n",
       " ('Kaivopuisto', '1937'),\n",
       " ('Kumpula', '1989'),\n",
       " ('lighthouse', '2003'),\n",
       " ('Malmi airfield', '2005'),\n",
       " ('Sumenlinna aaltopoiju', '2012'),\n",
       " ('Vuosaari harbor', '2016')]"
      ]
     },
     "execution_count": 14,
     "metadata": {},
     "output_type": "execute_result"
    }
   ],
   "source": [
    "a = (station_names)\n",
    "b = (first_year_operation)\n",
    "\n",
    "x = zip(a, b)\n",
    "\n",
    "list(x)"
   ]
  },
  {
   "cell_type": "markdown",
   "id": "cee15623-e2f4-4010-9123-7901607af11d",
   "metadata": {},
   "source": [
    "Solution for 2.3"
   ]
  },
  {
   "cell_type": "code",
   "execution_count": 15,
   "id": "94e0e2c2-7257-4a4d-9f26-a02e619944f9",
   "metadata": {},
   "outputs": [
    {
     "data": {
      "text/plain": [
       "['January',\n",
       " 'February',\n",
       " 'March',\n",
       " 'April',\n",
       " 'May',\n",
       " 'June',\n",
       " 'July',\n",
       " 'August',\n",
       " 'September',\n",
       " 'October',\n",
       " 'November',\n",
       " 'December']"
      ]
     },
     "execution_count": 15,
     "metadata": {},
     "output_type": "execute_result"
    }
   ],
   "source": [
    "month = [\"January\", \"February\", \"March\", \"April\", \"May\", \"June\", \"July\", \"August\", \"September\", \"October\", \"November\", \"December\"]\n",
    "month"
   ]
  },
  {
   "cell_type": "code",
   "execution_count": 16,
   "id": "3fbc576a-3aba-4662-bbdb-77c9577af319",
   "metadata": {},
   "outputs": [
    {
     "data": {
      "text/plain": [
       "['-3.5',\n",
       " '-4.5',\n",
       " '-1.0',\n",
       " '4.0',\n",
       " '10.0',\n",
       " '15.0',\n",
       " '18.0',\n",
       " '16.0',\n",
       " '11.5',\n",
       " '6.0',\n",
       " '2.0',\n",
       " '-1.5']"
      ]
     },
     "execution_count": 16,
     "metadata": {},
     "output_type": "execute_result"
    }
   ],
   "source": [
    "celsius = [\"-3.5\", \"-4.5\", \"-1.0\", \"4.0\", \"10.0\", \"15.0\", \"18.0\", \"16.0\", \"11.5\", \"6.0\", \"2.0\", \"-1.5\"]\n",
    "celsius"
   ]
  },
  {
   "cell_type": "code",
   "execution_count": 17,
   "id": "2b1fdc3c-65c7-437e-9def-e1433bbad238",
   "metadata": {},
   "outputs": [
    {
     "name": "stdout",
     "output_type": "stream",
     "text": [
      "The average temperature in Helsinki in January is -3.5\n"
     ]
    }
   ],
   "source": [
    "print(\"The average temperature in Helsinki in\", month[0], \"is\", celsius[0])"
   ]
  },
  {
   "cell_type": "code",
   "execution_count": 18,
   "id": "1b0b20ed-64b3-4bdf-80a1-2575c6b933b0",
   "metadata": {},
   "outputs": [
    {
     "name": "stdout",
     "output_type": "stream",
     "text": [
      "The average temperature in Helsinki in February is -4.5\n"
     ]
    }
   ],
   "source": [
    "print(\"The average temperature in Helsinki in\", month[1], \"is\", celsius[1])"
   ]
  },
  {
   "cell_type": "code",
   "execution_count": 19,
   "id": "983b6888-98e1-4adb-a26c-263d7d93fc25",
   "metadata": {},
   "outputs": [
    {
     "name": "stdout",
     "output_type": "stream",
     "text": [
      "The average temperature in Helsinki in March is -1.0\n"
     ]
    }
   ],
   "source": [
    "print(\"The average temperature in Helsinki in\", month[2], \"is\", celsius[2])"
   ]
  },
  {
   "cell_type": "code",
   "execution_count": 20,
   "id": "758a86ed-cdee-4959-99b9-1b37c74f4560",
   "metadata": {},
   "outputs": [
    {
     "name": "stdout",
     "output_type": "stream",
     "text": [
      "The average temperature in Helsinki in April is 4.0\n"
     ]
    }
   ],
   "source": [
    "print(\"The average temperature in Helsinki in\", month[3], \"is\", celsius[3])"
   ]
  },
  {
   "cell_type": "code",
   "execution_count": 21,
   "id": "b077603c-bd0b-4dba-afba-d48d51278acf",
   "metadata": {},
   "outputs": [
    {
     "name": "stdout",
     "output_type": "stream",
     "text": [
      "The average temperature in Helsinki in May is 10.0\n"
     ]
    }
   ],
   "source": [
    "print(\"The average temperature in Helsinki in\", month[4], \"is\", celsius[4])"
   ]
  },
  {
   "cell_type": "code",
   "execution_count": 22,
   "id": "c5fdec90-b701-44eb-b6ec-720a82e19e32",
   "metadata": {},
   "outputs": [
    {
     "name": "stdout",
     "output_type": "stream",
     "text": [
      "The average temperature in Helsinki in June is 15.0\n"
     ]
    }
   ],
   "source": [
    "print(\"The average temperature in Helsinki in\", month[5], \"is\", celsius[5])"
   ]
  },
  {
   "cell_type": "code",
   "execution_count": 23,
   "id": "98b9186d-d1cc-46fa-b2de-93d4465d3667",
   "metadata": {},
   "outputs": [
    {
     "name": "stdout",
     "output_type": "stream",
     "text": [
      "The average temperature in Helsinki in July is 18.0\n"
     ]
    }
   ],
   "source": [
    "print(\"The average temperature in Helsinki in\", month[6], \"is\", celsius[6])"
   ]
  },
  {
   "cell_type": "code",
   "execution_count": 24,
   "id": "a9a11a6c-49f5-4841-a1b6-6626478bfe24",
   "metadata": {},
   "outputs": [
    {
     "name": "stdout",
     "output_type": "stream",
     "text": [
      "The average temperature in Helsinki in August is 16.0\n"
     ]
    }
   ],
   "source": [
    "print(\"The average temperature in Helsinki in\", month[7], \"is\", celsius[7])"
   ]
  },
  {
   "cell_type": "code",
   "execution_count": 25,
   "id": "60acc40d-17a1-4250-a063-24062cee5b69",
   "metadata": {},
   "outputs": [
    {
     "name": "stdout",
     "output_type": "stream",
     "text": [
      "The average temperature in Helsinki in September is 11.5\n"
     ]
    }
   ],
   "source": [
    "print(\"The average temperature in Helsinki in\", month[8], \"is\", celsius[8])"
   ]
  },
  {
   "cell_type": "code",
   "execution_count": 26,
   "id": "3d56c44e-ade3-453c-8d1d-0ddc01da35db",
   "metadata": {},
   "outputs": [
    {
     "name": "stdout",
     "output_type": "stream",
     "text": [
      "The average temperature in Helsinki in October is 6.0\n"
     ]
    }
   ],
   "source": [
    "print(\"The average temperature in Helsinki in\", month[9], \"is\", celsius[9])"
   ]
  },
  {
   "cell_type": "code",
   "execution_count": 27,
   "id": "5820f92b-bd06-4e01-8602-51cdd6c940e9",
   "metadata": {},
   "outputs": [
    {
     "name": "stdout",
     "output_type": "stream",
     "text": [
      "The average temperature in Helsinki in November is 2.0\n"
     ]
    }
   ],
   "source": [
    "print(\"The average temperature in Helsinki in\", month[10], \"is\", celsius[10])"
   ]
  },
  {
   "cell_type": "code",
   "execution_count": 28,
   "id": "41770621-3aab-41dc-8c6a-0fc6fcec59f0",
   "metadata": {},
   "outputs": [
    {
     "name": "stdout",
     "output_type": "stream",
     "text": [
      "The average temperature in Helsinki in December is -1.5\n"
     ]
    }
   ],
   "source": [
    "print(\"The average temperature in Helsinki in\", month[11], \"is\", celsius[11])"
   ]
  },
  {
   "cell_type": "markdown",
   "id": "d6c507af-d9f5-47c2-bc6d-00f013d909e7",
   "metadata": {},
   "source": [
    "Solution for 2.4"
   ]
  },
  {
   "cell_type": "code",
   "execution_count": 44,
   "id": "89a15d0e-82ac-4efd-89ab-ac243fee6205",
   "metadata": {},
   "outputs": [],
   "source": [
    "station_name=['Station_0.txt', 'Station_1.txt', 'Station_2.txt', 'Station_3.txt',\n",
    " 'Station_4.txt', 'Station_5.txt', 'Station_6.txt', 'Station_7.txt',\n",
    " 'Station_8.txt', 'Station_9.txt', 'Station_10.txt', 'Station_11.txt',\n",
    " 'Station_12.txt', 'Station_13.txt', 'Station_14.txt', 'Station_15.txt',\n",
    " 'Station_16.txt', 'Station_17.txt', 'Station_18.txt', 'Station_19.txt',\n",
    " 'Station_20.txt']"
   ]
  },
  {
   "cell_type": "code",
   "execution_count": 45,
   "id": "342a0a54-75a8-4fcd-bc0e-85c4a1725ecf",
   "metadata": {},
   "outputs": [
    {
     "name": "stdout",
     "output_type": "stream",
     "text": [
      "['Station_0.txt', 'Station_1.txt', 'Station_2.txt', 'Station_3.txt', 'Station_4.txt', 'Station_5.txt', 'Station_6.txt', 'Station_7.txt', 'Station_8.txt', 'Station_9.txt', 'Station_10.txt', 'Station_11.txt', 'Station_12.txt', 'Station_13.txt', 'Station_14.txt', 'Station_15.txt', 'Station_16.txt', 'Station_17.txt', 'Station_18.txt', 'Station_19.txt', 'Station_20.txt', 'Station_0.txt', 'Station_1.txt', 'Station_2.txt', 'Station_3.txt', 'Station_4.txt', 'Station_5.txt', 'Station_6.txt', 'Station_7.txt', 'Station_8.txt', 'Station_9.txt', 'Station_10.txt', 'Station_11.txt', 'Station_12.txt', 'Station_13.txt', 'Station_14.txt', 'Station_15.txt', 'Station_16.txt', 'Station_17.txt', 'Station_18.txt', 'Station_19.txt', 'Station_20.txt']\n"
     ]
    }
   ],
   "source": [
    "for i in range(0,21,1):\n",
    "    file_name=f\"Station_{i}.txt\"\n",
    "    station_name.append(file_name)\n",
    "print(station_name)"
   ]
  },
  {
   "cell_type": "code",
   "execution_count": null,
   "id": "a260919e-a7ea-46c7-b85d-10c442ef5941",
   "metadata": {},
   "outputs": [],
   "source": []
  }
 ],
 "metadata": {
  "kernelspec": {
   "display_name": "Python 3 (ipykernel)",
   "language": "python",
   "name": "python3"
  },
  "language_info": {
   "codemirror_mode": {
    "name": "ipython",
    "version": 3
   },
   "file_extension": ".py",
   "mimetype": "text/x-python",
   "name": "python",
   "nbconvert_exporter": "python",
   "pygments_lexer": "ipython3",
   "version": "3.9.15"
  }
 },
 "nbformat": 4,
 "nbformat_minor": 5
}
